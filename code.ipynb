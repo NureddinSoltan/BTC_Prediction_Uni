{
 "cells": [
  {
   "cell_type": "code",
   "execution_count": null,
   "id": "82555b11",
   "metadata": {},
   "outputs": [],
   "source": [
    "# Importing required Libraries\n",
    "\n",
    "import numpy as np\n",
    "import pandas as pd\n",
    "import datetime as dt\n",
    "from sklearn.preprocessing import MinMaxScaler\n",
    "from sklearn.model_selection import train_test_split\n",
    "\n",
    "# For PLotting we will use these library\n",
    "\n",
    "import matplotlib.pyplot as plt\n",
    "from itertools import cycle\n",
    "import plotly.graph_objects as go\n",
    "import plotly.express as px\n",
    "from plotly.subplots import make_subplots\n",
    "\n",
    "# For model building we used these library\n",
    "\n",
    "import tensorflow as tf\n",
    "from tensorflow.keras.models import Sequential\n",
    "from tensorflow.keras.layers import Dense, Dropout, Activation\n",
    "from tensorflow.keras.layers import LSTM\n",
    "# We will see the correlation between each feature\n",
    "import seaborn as sns"
   ]
  },
  {
   "cell_type": "code",
   "execution_count": null,
   "id": "259bdcc4",
   "metadata": {},
   "outputs": [],
   "source": [
    "# Reading the dataset\n",
    "\n",
    "path = \"./BTC-USD.csv\"\n",
    "df = pd.read_csv(path)"
   ]
  },
  {
   "cell_type": "markdown",
   "id": "2b669b3b",
   "metadata": {},
   "source": [
    "# Understanding Data"
   ]
  },
  {
   "cell_type": "code",
   "execution_count": null,
   "id": "0ee68800",
   "metadata": {},
   "outputs": [],
   "source": [
    "print('Dataset Shape:', df.shape)"
   ]
  },
  {
   "cell_type": "code",
   "execution_count": null,
   "id": "952ab9c7",
   "metadata": {},
   "outputs": [],
   "source": [
    "df.head()"
   ]
  },
  {
   "cell_type": "code",
   "execution_count": null,
   "id": "be0f24de",
   "metadata": {},
   "outputs": [],
   "source": [
    "df.tail()"
   ]
  },
  {
   "cell_type": "code",
   "execution_count": null,
   "id": "52904069",
   "metadata": {},
   "outputs": [],
   "source": [
    "print('Data Info:', df.info())"
   ]
  },
  {
   "cell_type": "code",
   "execution_count": null,
   "id": "e2e59473",
   "metadata": {},
   "outputs": [],
   "source": [
    "df.describe()"
   ]
  },
  {
   "cell_type": "markdown",
   "id": "4afa979f",
   "metadata": {},
   "source": [
    "# Exploratory Data Analysis"
   ]
  },
  {
   "cell_type": "code",
   "execution_count": null,
   "id": "eeb93c8a",
   "metadata": {},
   "outputs": [],
   "source": [
    "# We adjust the Date Format to be all the same Year-Month-Day\n",
    "df['Date'] = pd.to_datetime(df['Date'], format='%Y-%m-%d')\n",
    "\n",
    "# We set the Date to be the Index\n",
    "df.set_index('Date', inplace=True)"
   ]
  },
  {
   "cell_type": "code",
   "execution_count": null,
   "id": "f455a3c1",
   "metadata": {},
   "outputs": [],
   "source": [
    "df"
   ]
  },
  {
   "cell_type": "code",
   "execution_count": null,
   "id": "3af41f63",
   "metadata": {},
   "outputs": [],
   "source": [
    "# here we just resample the dataset based on daily monthly yearly frequency\n",
    "\n",
    "# Resampling to Daily frequency\n",
    "df_day = df.resample('D').mean()\n",
    "\n",
    "# Resampling to monthly frequency\n",
    "df_month = df.resample('M').mean()\n",
    "\n",
    "# Resampling to annual frequency\n",
    "df_year = df.resample('A-DEC').mean()"
   ]
  },
  {
   "cell_type": "code",
   "execution_count": null,
   "id": "599a0751",
   "metadata": {},
   "outputs": [],
   "source": [
    "# Plot 1: Line chart of Bitcoin closing prices over time\n",
    "plt.figure(figsize=(10, 5))\n",
    "plt.plot(df.index, df['Close'])\n",
    "plt.title('Bitcoin Closing Prices over Time')\n",
    "plt.xlabel('Time')\n",
    "plt.ylabel('Closing Price')\n",
    "plt.xticks(rotation=45)\n",
    "plt.grid(True)\n",
    "plt.show()"
   ]
  },
  {
   "cell_type": "code",
   "execution_count": null,
   "id": "52f67bc7",
   "metadata": {},
   "outputs": [],
   "source": [
    "# Plot 2: Candlestick chart of Bitcoin prices\n",
    "plt.figure(figsize=(10, 5))\n",
    "plt.plot(df.index, df['Open'], color='green', label='Open')\n",
    "plt.plot(df.index, df['Close'], color='red', label='Close')\n",
    "plt.plot(df.index, df['High'], color='blue', label='High')\n",
    "plt.plot(df.index, df['Low'], color='orange', label='Low')\n",
    "plt.title('Bitcoin Candlestick Chart')\n",
    "plt.xlabel('Time')\n",
    "plt.ylabel('Price')\n",
    "plt.xticks(rotation=45)\n",
    "plt.legend()\n",
    "plt.grid(True)\n",
    "plt.show()"
   ]
  },
  {
   "cell_type": "markdown",
   "id": "3e5293dd",
   "metadata": {},
   "source": [
    "* Nothing is clear\n",
    "* The value remains close for all the variables\n",
    "* There is a huge increase in all the prices in 2018 and 2021 with 2018 peak to be lower than 2021."
   ]
  },
  {
   "cell_type": "code",
   "execution_count": null,
   "id": "804f9755",
   "metadata": {},
   "outputs": [],
   "source": [
    "f,ax = plt.subplots(figsize=(9, 9))\n",
    "sns.heatmap(df.corr(), annot=True, linewidths=.5, fmt= '.1f',ax=ax)\n",
    "plt.show()"
   ]
  },
  {
   "cell_type": "markdown",
   "id": "aee130a9",
   "metadata": {},
   "source": [
    "* Open, High, Low, Close, and Adj Close: These variables represent the opening, highest, lowest, closing, and adjusted closing prices of Bitcoin for each day. They have a perfect positive correlation of 1.0 with each other, meaning they move in the same direction and by the same amount. This makes sense because the prices of Bitcoin are determined by the market demand and supply, which are reflected in these variables.\n",
    "\n",
    "* Volume: This variable represents the number of Bitcoins traded for each day. It has a moderate positive correlation of 0.7 with the other variables, meaning it tends to move in the same direction but not by the same amount. This indicates that there is some relationship between the trading volume and the price movements of Bitcoin, but it is not very strong or consistent. There may be other factors that affect the volume, such as news, events, or sentiment."
   ]
  },
  {
   "cell_type": "markdown",
   "id": "ccb7218f",
   "metadata": {},
   "source": [
    "# LSTM Model"
   ]
  },
  {
   "cell_type": "markdown",
   "id": "e8f21b02",
   "metadata": {},
   "source": [
    "## * First Step is Preparing Data for Training and Testing.\n",
    "\n",
    "* Here we are just considering 1 year data for training data.\n",
    "\n",
    "* Since Bitcoin price has drastically flucated from 200 dollar in year 2015 to 15000 dollar in year 2018 to 3000 dollar in year 2019(theses values are apporx) so we will just consider 2 Year to avoid this type of flucation in the data.\n",
    "\n",
    "* As we want to predict Close Price of the Bitcoin so we are just Considering Close and Date."
   ]
  },
  {
   "cell_type": "code",
   "execution_count": null,
   "id": "bd0292bb",
   "metadata": {},
   "outputs": [],
   "source": [
    "# Lets First Take all the Close Price \n",
    "closedf = df.reset_index()[['Date', 'Close']]\n",
    "print(\"Shape of close dataframe:\", closedf.shape)"
   ]
  },
  {
   "cell_type": "code",
   "execution_count": null,
   "id": "f1b8fb2c",
   "metadata": {},
   "outputs": [],
   "source": [
    "# Resampling the closedf based on daily and monthly\n",
    "\n",
    "# Resampling to Daily frequency\n",
    "dfclose_day = df.groupby(['Date']).mean(['Close']).reset_index()\n",
    "\n",
    "dfclose_day['Date'] = pd.to_datetime(dfclose_day['Date'])\n",
    "dfclose_day.set_index(['Date'], inplace=True)\n",
    "dfclose_day = dfclose_day[['Close']]\n",
    "\n",
    "# Resampling to monthly frequency\n",
    "dfclose_month = dfclose_day.resample('M').mean(['Close'])\n"
   ]
  },
  {
   "cell_type": "code",
   "execution_count": null,
   "id": "c7d1a854",
   "metadata": {},
   "outputs": [],
   "source": [
    "# prediction for 100 days\n",
    "pred_days = 365\n",
    "train = dfclose_day[:len(dfclose_day)-pred_days]\n",
    "test = dfclose_day[len(dfclose_day)-pred_days:]\n",
    "train.shape,test.shape"
   ]
  },
  {
   "cell_type": "code",
   "execution_count": null,
   "id": "6c2b7756",
   "metadata": {},
   "outputs": [],
   "source": [
    "training_set = train.values\n",
    "training_set.shape"
   ]
  },
  {
   "cell_type": "code",
   "execution_count": null,
   "id": "cc8a71ae",
   "metadata": {},
   "outputs": [],
   "source": [
    "# create train and val\n",
    "scaler = MinMaxScaler()\n",
    "training_set = scaler.fit_transform(training_set)\n",
    "X_train = training_set[0:(len(training_set)-1)]\n",
    "y_train = training_set[1:]\n",
    "#need to be 3D\n",
    "X_train = np.reshape(X_train, (len(X_train), 1, 1))\n",
    "X_train.shape"
   ]
  },
  {
   "cell_type": "code",
   "execution_count": null,
   "id": "b4c31a3b",
   "metadata": {},
   "outputs": [],
   "source": [
    "#build model\n",
    "model = Sequential()\n",
    "model.add(LSTM(128,activation='relu',input_shape=(1,1),return_sequences=True))\n",
    "model.add(Dense(32))\n",
    "model.add(Dropout(0.1))\n",
    "model.add(Dense(1))\n",
    "\n",
    "model.compile(optimizer='adam',loss='mse')"
   ]
  },
  {
   "cell_type": "code",
   "execution_count": null,
   "id": "2042ebc2",
   "metadata": {},
   "outputs": [],
   "source": [
    "model.summary()"
   ]
  },
  {
   "cell_type": "code",
   "execution_count": null,
   "id": "20d378d9",
   "metadata": {},
   "outputs": [],
   "source": [
    "history = model.fit(X_train,y_train,epochs=50)"
   ]
  },
  {
   "cell_type": "code",
   "execution_count": null,
   "id": "f8e401a7",
   "metadata": {},
   "outputs": [],
   "source": [
    "plt.plot(history.history['loss'],label='train_loss')"
   ]
  },
  {
   "cell_type": "markdown",
   "id": "ae162bd8",
   "metadata": {},
   "source": [
    "The graph shows that the model learned quickly from the data and reduced the loss, which is the difference between the model’s predictions and the actual targets. However, after a few epochs, the model stopped improving and the loss remained almost constant. This means that the model either reached its optimal performance or overfitted the data."
   ]
  },
  {
   "cell_type": "code",
   "execution_count": null,
   "id": "35de815f",
   "metadata": {},
   "outputs": [],
   "source": [
    "#prediction\n",
    "test_set = test.values\n",
    "test_set = scaler.transform(test_set)\n",
    "test_set = np.reshape(test_set,(len(test_set),1,1))\n",
    "pred = model.predict(test_set)\n",
    "pred = np.reshape(pred,(len(test_set),1))\n",
    "pred = list(scaler.inverse_transform(pred))\n",
    "pred =pd.Series(pred,index=test.index)"
   ]
  },
  {
   "cell_type": "code",
   "execution_count": null,
   "id": "78fe45a4",
   "metadata": {},
   "outputs": [],
   "source": [
    "fig,ax = plt.subplots()\n",
    "line1, = ax.plot(test,label='real_price')\n",
    "line2, = ax.plot(pred,label='predict_price')\n",
    "ax.legend(handles=[line1, line2],loc='upper left')\n",
    "plt.xticks(rotation='vertical')\n",
    "plt.ylabel('Close Price')\n",
    "plt.xlabel('Date')"
   ]
  },
  {
   "cell_type": "code",
   "execution_count": null,
   "id": "7169f5d3",
   "metadata": {},
   "outputs": [],
   "source": [
    "# def predict_stock_prices_for_years(model, scaler, df, target_year):\n",
    "#     # Filter the dataframe for years up to the target year\n",
    "#     df_years = df[df.index.year <= target_year]\n",
    "\n",
    "#     # Extract the Close prices\n",
    "#     df_close_years = df_years[['Close']]\n",
    "\n",
    "#     # Use the same scaler used for training data\n",
    "#     test_set = scaler.transform(df_close_years.values)\n",
    "#     test_set = np.reshape(test_set, (len(test_set), 1, 1))\n",
    "\n",
    "#     # Make predictions\n",
    "#     pred = model.predict(test_set)\n",
    "#     pred = np.reshape(pred, (len(test_set), 1))\n",
    "#     pred = list(scaler.inverse_transform(pred))\n",
    "#     pred = pd.Series(pred, index=df_close_years.index)\n",
    "\n",
    "#     # Plot the results\n",
    "#     fig, ax = plt.subplots()\n",
    "#     for year in range(df_years.index.year.min(), target_year + 1):\n",
    "#         year_data = df_close_years[df_close_years.index.year == year]\n",
    "#         pred_data = pred[pred.index.year == year]\n",
    "#         line1, = ax.plot(year_data.index, year_data['Close'], label=f'Real Price {year}')\n",
    "#         line2, = ax.plot(pred_data.index, pred_data, label=f'Predicted Price {year}')\n",
    "\n",
    "#     ax.legend(loc='upper left')\n",
    "#     plt.xticks(rotation='vertical')\n",
    "#     plt.ylabel('Close Price')\n",
    "#     plt.xlabel('Date')\n",
    "#     plt.title(f'Stock Price Prediction up to {target_year}')\n",
    "\n",
    "#     plt.show()"
   ]
  },
  {
   "cell_type": "code",
   "execution_count": null,
   "id": "6e5d2181",
   "metadata": {},
   "outputs": [],
   "source": [
    "def predict_and_plot_stock_prices_for_years(model, scaler, df, target_year):\n",
    "    # Check if target year is a leap year\n",
    "    is_leap_year = (target_year % 4 == 0) and (target_year % 100 != 0) or (target_year % 400 == 0)\n",
    "    num_days = 366 if is_leap_year else 365\n",
    "\n",
    "    # Filter the dataframe for years up to the year before the target year\n",
    "    df_years = df[df.index.year < target_year]\n",
    "\n",
    "    # Extract the Close prices\n",
    "    df_close_years = df_years[['Close']]\n",
    "\n",
    "    # Use the same scaler used for training data\n",
    "    test_set = scaler.transform(df_close_years.values)\n",
    "    test_set = np.reshape(test_set, (len(test_set), 1, 1))\n",
    "\n",
    "    # Initialize a list to store predictions\n",
    "    predictions = []\n",
    "\n",
    "    # Predict one day at a time for the target year\n",
    "    for _ in range(num_days):\n",
    "        # Make prediction for the next day\n",
    "        pred = model.predict(test_set)\n",
    "        # Append the prediction\n",
    "        predictions.append(pred[-1, 0, 0])\n",
    "\n",
    "        # Add the prediction to the test set to predict the next day\n",
    "        test_set = np.concatenate((test_set, np.reshape(pred[-1], (1, 1, 1))), axis=0)\n",
    "\n",
    "        # Remove the first element to keep the test set at the same size\n",
    "        test_set = test_set[1:]\n",
    "\n",
    "    # Rescale predictions back to original scale\n",
    "    predictions = scaler.inverse_transform(np.array(predictions).reshape(-1, 1))\n",
    "\n",
    "    # Generate dates for the target year\n",
    "    dates = pd.date_range(start=f'{target_year}-01-01', end=f'{target_year}-12-31')\n",
    "\n",
    "    # Ensure that dates and predictions arrays have the same length\n",
    "    dates = dates[:len(predictions)]\n",
    "\n",
    "    # Plotting\n",
    "    plt.figure(figsize=(12, 6))\n",
    "    plt.plot(dates, predictions, label='Predicted Prices', color='blue')\n",
    "    plt.title(f'Bitcoin Price Prediction for {target_year}')\n",
    "    plt.xlabel('Date')\n",
    "    plt.ylabel('Price')\n",
    "    plt.xticks(rotation=45)\n",
    "    plt.gca().xaxis.set_major_formatter(mdates.DateFormatter('%Y-%m-%d'))\n",
    "    plt.gca().xaxis.set_major_locator(mdates.MonthLocator())\n",
    "    plt.legend()\n",
    "    plt.grid(True)\n",
    "    plt.show()\n",
    "\n",
    "    return predictions"
   ]
  },
  {
   "cell_type": "code",
   "execution_count": null,
   "id": "23a04fbe",
   "metadata": {},
   "outputs": [],
   "source": [
    "target_year = 2025\n",
    "\n",
    "# Use the function to make predictions\n",
    "predictions_for_target_year = predict_and_plot_stock_prices_for_years(model, scaler, df, 2024)\n"
   ]
  },
  {
   "cell_type": "code",
   "execution_count": null,
   "id": "e7db8f72",
   "metadata": {},
   "outputs": [],
   "source": [
    "# Load the dataset\n",
    "btc_data = pd.read_csv('BTC-USD.csv')\n",
    "\n",
    "# Convert 'Date' to datetime and set as index\n",
    "btc_data['Date'] = pd.to_datetime(btc_data['Date'])\n",
    "btc_data.set_index('Date', inplace=True)\n",
    "\n",
    "# Check for missing values\n",
    "missing_values = btc_data.isnull().sum()\n",
    "\n",
    "# Handle missing values (if any)\n",
    "# For example, if there are missing values, you can fill them with the previous value:\n",
    "# btc_data.fillna(method='ffill', inplace=True)\n",
    "\n",
    "# Selecting the 'Close' column for analysis\n",
    "btc_close = btc_data['Close']\n",
    "\n",
    "# Display the first few rows\n",
    "btc_close.head()\n"
   ]
  },
  {
   "cell_type": "code",
   "execution_count": null,
   "id": "16bc02ec",
   "metadata": {},
   "outputs": [],
   "source": [
    "# Check for missing values in the 'Close' column\n",
    "missing_in_close = btc_close.isnull().sum()\n",
    "print(f\"Missing values in 'Close': {missing_in_close}\")\n"
   ]
  },
  {
   "cell_type": "code",
   "execution_count": null,
   "id": "45255b58",
   "metadata": {},
   "outputs": [],
   "source": [
    "import matplotlib.pyplot as plt\n",
    "\n",
    "btc_close.plot(figsize=(10, 6))\n",
    "plt.title('Bitcoin Closing Price Over Time')\n",
    "plt.xlabel('Date')\n",
    "plt.ylabel('Closing Price (USD)')\n",
    "plt.show()\n"
   ]
  },
  {
   "cell_type": "markdown",
   "id": "aa8aeaff",
   "metadata": {},
   "source": [
    "Creating a Dataset Suitable for LSTM"
   ]
  },
  {
   "cell_type": "code",
   "execution_count": null,
   "id": "115e72bc",
   "metadata": {},
   "outputs": [],
   "source": [
    "import numpy as np\n",
    "\n",
    "def create_dataset(dataset, time_step=1):\n",
    "    dataX, dataY = [], []\n",
    "    for i in range(len(dataset)-time_step-1):\n",
    "        a = dataset[i:(i+time_step), 0]\n",
    "        dataX.append(a)\n",
    "        dataY.append(dataset[i + time_step, 0])\n",
    "    return np.array(dataX), np.array(dataY)\n",
    "\n",
    "# Reshape into X=t, t+1, t+2, ..., t+n and Y=t+(n+1)\n",
    "time_step = 100\n",
    "X, y = create_dataset(btc_close.values.reshape(-1, 1), time_step)\n"
   ]
  },
  {
   "cell_type": "markdown",
   "id": "bd19cba3",
   "metadata": {},
   "source": [
    "Splitting Data into Training and Testing Sets"
   ]
  },
  {
   "cell_type": "code",
   "execution_count": null,
   "id": "621df7b9",
   "metadata": {},
   "outputs": [],
   "source": [
    "from sklearn.model_selection import train_test_split\n",
    "\n",
    "# Splitting the dataset into training and testing sets\n",
    "X_train, X_test, y_train, y_test = train_test_split(X, y, test_size=0.2, random_state=42)\n",
    "\n",
    "# Reshaping the data to be compatible with LSTM layers\n",
    "X_train = X_train.reshape(X_train.shape[0], X_train.shape[1], 1)\n",
    "X_test = X_test.reshape(X_test.shape[0], X_test.shape[1], 1)"
   ]
  },
  {
   "cell_type": "markdown",
   "id": "e8f13822",
   "metadata": {},
   "source": [
    "**Building and Training the LSTM Model**"
   ]
  },
  {
   "cell_type": "code",
   "execution_count": null,
   "id": "65ab0dfe",
   "metadata": {},
   "outputs": [],
   "source": [
    "from keras.models import Sequential\n",
    "from keras.layers import Dense, LSTM\n",
    "\n",
    "# Building the LSTM model\n",
    "model = Sequential()\n",
    "model.add(LSTM(50, return_sequences=True, input_shape=(100, 1)))\n",
    "model.add(LSTM(50, return_sequences=False))\n",
    "model.add(Dense(25))\n",
    "model.add(Dense(1))\n",
    "\n",
    "# Compile the model\n",
    "model.compile(optimizer='adam', loss='mean_squared_error')\n",
    "\n",
    "# Training the model\n",
    "model.fit(X_train, y_train, batch_size=1, epochs=1)"
   ]
  },
  {
   "cell_type": "code",
   "execution_count": null,
   "id": "15b4a6d0",
   "metadata": {},
   "outputs": [],
   "source": [
    "model.summary() "
   ]
  },
  {
   "cell_type": "markdown",
   "id": "6996f960",
   "metadata": {},
   "source": [
    "**Making Predictions and Plotting the Results**"
   ]
  },
  {
   "cell_type": "code",
   "execution_count": null,
   "id": "d5a06868",
   "metadata": {},
   "outputs": [],
   "source": [
    "# Making predictions\n",
    "predictions = model.predict(X_test)\n",
    "\n",
    "# Plotting the data\n",
    "plt.figure(figsize=(10,6))\n",
    "plt.plot(y_test, label='Real Bitcoin Price')\n",
    "plt.plot(predictions, label='Predicted Bitcoin Price')\n",
    "plt.title('Bitcoin Price Prediction')\n",
    "plt.xlabel('Time')\n",
    "plt.ylabel('Bitcoin Price (USD)')\n",
    "plt.legend()\n",
    "plt.show()"
   ]
  },
  {
   "cell_type": "code",
   "execution_count": null,
   "id": "a89431d7",
   "metadata": {},
   "outputs": [],
   "source": [
    "from sklearn.preprocessing import MinMaxScaler\n",
    "\n",
    "# Scale the 'Close' prices to values between 0 and 1\n",
    "scaler = MinMaxScaler(feature_range=(0, 1))\n",
    "scaled_close = scaler.fit_transform(btc_close.values.reshape(-1, 1))\n",
    "\n",
    "# Generate the dataset for the LSTM model\n",
    "time_step = 100\n",
    "X, y = create_dataset(scaled_close, time_step)\n",
    "\n",
    "# Split the data into training and testing sets\n",
    "X_train, X_test, y_train, y_test = train_test_split(X, y, test_size=0.2, random_state=42)\n",
    "\n",
    "# Reshape the data for the LSTM layer\n",
    "X_train = X_train.reshape(X_train.shape[0], X_train.shape[1], 1)\n",
    "X_test = X_test.reshape(X_test.shape[0], X_test.shape[1], 1)\n",
    "\n",
    "# Define the LSTM model architecture with dropout to prevent overfitting\n",
    "model = Sequential()\n",
    "model.add(LSTM(50, return_sequences=True, input_shape=(100, 1)))\n",
    "model.add(LSTM(50, return_sequences=False))\n",
    "model.add(Dense(25))\n",
    "model.add(Dense(1))\n",
    "\n",
    "# Compile and train the model\n",
    "model.compile(optimizer='adam', loss='mean_squared_error')\n",
    "model.fit(X_train, y_train, batch_size=1, epochs=1)\n",
    "\n",
    "# Predict and inverse transform the scaled data\n",
    "predictions = model.predict(X_test)\n",
    "predictions = scaler.inverse_transform(predictions)\n",
    "\n",
    "# Plotting the graph with scaled predictions\n",
    "y_test_scaled = scaler.inverse_transform(y_test.reshape(-1, 1))\n",
    "\n",
    "plt.figure(figsize=(10,6))\n",
    "plt.plot(y_test_scaled, label='Real Bitcoin Price')\n",
    "plt.plot(predictions, label='Predicted Bitcoin Price')\n",
    "plt.title('Bitcoin Price Prediction')\n",
    "plt.xlabel('Time')\n",
    "plt.ylabel('Bitcoin Price (USD)')\n",
    "plt.legend()\n",
    "plt.show()\n"
   ]
  },
  {
   "cell_type": "code",
   "execution_count": null,
   "id": "621c9fb6",
   "metadata": {},
   "outputs": [],
   "source": [
    "# Assuming 'predictions' and 'y_test' are already inverse transformed to their original scale\n",
    "\n",
    "# Get the last date from the training set as a starting point for predictions\n",
    "last_train_date = btc_close.index[-1] - pd.Timedelta(days=len(y_test))\n",
    "\n",
    "# Create a date range for predictions\n",
    "prediction_dates = pd.date_range(start=last_train_date, periods=len(predictions), freq='D')\n",
    "\n",
    "# Create a dataframe for the predictions with corresponding dates\n",
    "predictions_df = pd.DataFrame(data=predictions, index=prediction_dates, columns=['Predicted'])\n",
    "actual_df = pd.DataFrame(data=y_test_scaled, index=prediction_dates, columns=['Actual'])\n"
   ]
  },
  {
   "cell_type": "code",
   "execution_count": null,
   "id": "5c55d3dc",
   "metadata": {},
   "outputs": [],
   "source": [
    "# Resample to monthly or yearly averages\n",
    "monthly_predictions = predictions_df['Predicted'].resample('M').mean()\n",
    "monthly_actual = actual_df['Actual'].resample('M').mean()\n",
    "\n",
    "# Plotting the aggregated data\n",
    "plt.figure(figsize=(12,7))\n",
    "plt.scatter(monthly_actual.index, monthly_actual, color='blue', label='Actual Prices', alpha=0.5)\n",
    "plt.scatter(monthly_predictions.index, monthly_predictions, color='red', label='Predicted Prices', alpha=0.5)\n",
    "plt.title('Monthly Bitcoin Price Prediction')\n",
    "plt.xlabel('Date')\n",
    "plt.ylabel('Bitcoin Price (USD)')\n",
    "plt.legend()\n",
    "plt.show()\n"
   ]
  },
  {
   "cell_type": "code",
   "execution_count": null,
   "id": "ea5fe082",
   "metadata": {},
   "outputs": [],
   "source": [
    "# Define the date range for the prediction\n",
    "start_date = pd.to_datetime('2023-12-31')  # End of the last date with actual data\n",
    "end_date = pd.to_datetime('2024-12-31')  # End of 2025\n",
    "\n",
    "# Number of days to predict\n",
    "num_days = (end_date - start_date).days\n",
    "\n",
    "# Get the last `time_step` days from the dataset as the base for future predictions\n",
    "input_seq = btc_close[-time_step:].values.reshape(-1, 1)\n",
    "input_seq = scaler.transform(input_seq)  # Assuming 'scaler' is your MinMaxScaler object\n",
    "\n",
    "# List to hold the predictions\n",
    "future_predictions = []\n",
    "\n",
    "# Loop for each day in the prediction range\n",
    "for _ in range(num_days):\n",
    "    # Reshape the input for LSTM prediction\n",
    "    lstm_input = input_seq[-time_step:].reshape(1, time_step, 1)\n",
    "    \n",
    "    # Predict the next price\n",
    "    predicted_price = model.predict(lstm_input)\n",
    "    \n",
    "    # Append the prediction to the list\n",
    "    future_predictions.append(scaler.inverse_transform(predicted_price)[0, 0])\n",
    "    \n",
    "    # Update the input sequence with the predicted price\n",
    "    input_seq = np.append(input_seq, predicted_price, axis=0)\n",
    "\n",
    "# Create a date range for the predictions\n",
    "future_dates = pd.date_range(start=start_date, periods=num_days, freq='D')\n",
    "\n",
    "# Create a dataframe for the predictions with corresponding dates\n",
    "future_predictions_df = pd.DataFrame(data=future_predictions, index=future_dates, columns=['Predicted'])\n",
    "\n",
    "# Plot the future predictions\n",
    "plt.figure(figsize=(12, 7))\n",
    "plt.plot(future_predictions_df.index, future_predictions_df['Predicted'], color='red', label='Predicted Future Prices')\n",
    "plt.title('Bitcoin Price Prediction for 2025')\n",
    "plt.xlabel('Date')\n",
    "plt.ylabel('Predicted Bitcoin Price (USD)')\n",
    "plt.legend()\n",
    "plt.show()\n"
   ]
  },
  {
   "cell_type": "code",
   "execution_count": null,
   "id": "d2510c52",
   "metadata": {},
   "outputs": [],
   "source": [
    "# Define the target year\n",
    "target_year = 2025  # You can change this to the year you want\n",
    "\n",
    "# Step 1: Extract historical data from 2020 onwards\n",
    "historical_data = btc_close[btc_close.index.year >= 2020]\n",
    "\n",
    "# Calculate the number of days to predict based on the target year\n",
    "last_historical_date = historical_data.index[-1]\n",
    "end_prediction_date = pd.Timestamp(year=target_year, month=12, day=31)\n",
    "num_days = (end_prediction_date - last_historical_date).days\n",
    "\n",
    "# Step 2: Generate predictions for the future up to the target year\n",
    "\n",
    "# Prepare the input sequence with the last known data points\n",
    "input_seq = historical_data[-time_step:].values.reshape(-1, 1)\n",
    "input_seq = scaler.transform(input_seq)\n",
    "\n",
    "# Predict future prices\n",
    "future_predictions = []\n",
    "for _ in range(num_days):\n",
    "    lstm_input = input_seq[-time_step:].reshape(1, time_step, 1)\n",
    "    predicted_price = model.predict(lstm_input)\n",
    "    future_predictions.append(scaler.inverse_transform(predicted_price)[0, 0])\n",
    "    input_seq = np.append(input_seq, predicted_price, axis=0)\n",
    "\n",
    "# Create a DataFrame for the future predictions with corresponding dates\n",
    "future_dates = pd.date_range(start=last_historical_date + pd.Timedelta(days=1), periods=num_days, freq='D')\n",
    "future_predictions_df = pd.DataFrame(data=future_predictions, index=future_dates, columns=['Predicted'])\n",
    "\n",
    "# Step 3: Combine historical and predicted data into one DataFrame\n",
    "combined_data = historical_data.to_frame(name='Actual')\n",
    "combined_data = combined_data.join(future_predictions_df, how='outer')\n",
    "\n",
    "# Step 4: Plot the combined data\n",
    "plt.figure(figsize=(15, 8))\n",
    "plt.plot(combined_data.index, combined_data['Actual'], label='Historical Prices', color='blue')\n",
    "plt.plot(combined_data.index, combined_data['Predicted'], label='Predicted Future Prices', color='red', linestyle='--')\n",
    "plt.title(f'Bitcoin Price and Predictions from 2020 to {target_year}')\n",
    "plt.xlabel('Date')\n",
    "plt.ylabel('Price (USD)')\n",
    "plt.legend()\n",
    "plt.show()\n"
   ]
  },
  {
   "cell_type": "code",
   "execution_count": null,
   "id": "b53cfc18",
   "metadata": {},
   "outputs": [],
   "source": [
    "import pandas as pd\n",
    "\n",
    "def predict_price(input_date):\n",
    "    # Convert input_date to pandas.Timestamp for comparison\n",
    "    input_date = pd.Timestamp(input_date)\n",
    "\n",
    "    # Check if the input date is within the range of your model's prediction\n",
    "    if input_date < historical_data.index[0] or input_date > future_predictions_df.index[-1]:\n",
    "        return \"Date out of prediction range\"\n",
    "\n",
    "    if input_date in future_predictions_df.index:\n",
    "        # Prediction for a future date\n",
    "        predicted_price = future_predictions_df.loc[input_date]['Predicted']\n",
    "    else:\n",
    "        # Historical actual price\n",
    "        predicted_price = historical_data.loc[input_date]['Actual']\n",
    "\n",
    "    return predicted_price\n"
   ]
  },
  {
   "cell_type": "code",
   "execution_count": null,
   "id": "eb6fe45e",
   "metadata": {},
   "outputs": [],
   "source": [
    "print(\"Last historical date:\", historical_data.index[-1])\n",
    "print(\"Last predicted date:\", future_predictions_df.index[-1])\n"
   ]
  },
  {
   "cell_type": "code",
   "execution_count": null,
   "id": "f66e4c5e",
   "metadata": {},
   "outputs": [],
   "source": [
    "import tkinter as tk\n",
    "from datetime import datetime\n",
    "\n",
    "def get_date():\n",
    "    # Retrieve the date from the entry field\n",
    "    date_string = date_entry.get()\n",
    "    \n",
    "    try:\n",
    "        # Parse the date string into a datetime object\n",
    "        entered_date = datetime.strptime(date_string, '%Y-%m-%d').date()\n",
    "        \n",
    "        # Call the prediction function\n",
    "        predicted_price = predict_price(entered_date)\n",
    "\n",
    "        # Clear the previous result\n",
    "        result_label.config(text=\"\")\n",
    "\n",
    "        # Display the result\n",
    "        result_label.config(text=f\"The predicted price for {entered_date} is {predicted_price}\")\n",
    "        \n",
    "    except ValueError:\n",
    "        result_label.config(text=\"Please enter a valid date in YYYY-MM-DD format.\")\n",
    "\n",
    "\n",
    "# Set up the Tkinter window\n",
    "window = tk.Tk()\n",
    "window.title(\"Bitcoin Price Prediction\")\n",
    "\n",
    "# Set the window size and position it in the center of the screen\n",
    "window.geometry(\"400x200\")\n",
    "window.eval('tk::PlaceWindow . center')\n",
    "\n",
    "# Create a label, entry field, and button\n",
    "label = tk.Label(window, text=\"Enter a date (YYYY-MM-DD):\")\n",
    "label.pack()\n",
    "\n",
    "date_entry = tk.Entry(window)\n",
    "date_entry.pack()\n",
    "\n",
    "submit_button = tk.Button(window, text=\"Get Prediction\", command=get_date)\n",
    "submit_button.pack()\n",
    "\n",
    "# Create a label to display the result\n",
    "result_label = tk.Label(window, text=\"\")\n",
    "result_label.pack()\n",
    "\n",
    "# Start the Tkinter event loop\n",
    "window.mainloop()\n"
   ]
  }
 ],
 "metadata": {
  "kernelspec": {
   "display_name": "Python 3 (ipykernel)",
   "language": "python",
   "name": "python3"
  },
  "language_info": {
   "codemirror_mode": {
    "name": "ipython",
    "version": 3
   },
   "file_extension": ".py",
   "mimetype": "text/x-python",
   "name": "python",
   "nbconvert_exporter": "python",
   "pygments_lexer": "ipython3",
   "version": "3.11.7"
  }
 },
 "nbformat": 4,
 "nbformat_minor": 5
}
