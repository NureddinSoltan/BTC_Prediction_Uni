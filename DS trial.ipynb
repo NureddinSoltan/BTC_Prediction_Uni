{
 "cells": [
  {
   "cell_type": "code",
   "execution_count": 1,
   "id": "50dc0cbd",
   "metadata": {},
   "outputs": [],
   "source": [
    "import numpy as np\n",
    "import pandas as pd\n",
    "\n",
    "data = pd.read_csv('/Users/soltanhassan/Desktop/Education/Programming with Python/Test Python Code/learn&try/kaggle/input/bitstampUSD_1-min_data_2012-01-01_to_2021-03-31.csv')\n"
   ]
  },
  {
   "cell_type": "markdown",
   "id": "ad85588b",
   "metadata": {},
   "source": [
    "# Understand Data"
   ]
  },
  {
   "cell_type": "code",
   "execution_count": 2,
   "id": "e10b8c88",
   "metadata": {},
   "outputs": [
    {
     "name": "stdout",
     "output_type": "stream",
     "text": [
      "    Timestamp  Open  High   Low  Close  Volume_(BTC)  Volume_(Currency)  \\\n",
      "0  1325317920  4.39  4.39  4.39   4.39      0.455581                2.0   \n",
      "1  1325317980   NaN   NaN   NaN    NaN           NaN                NaN   \n",
      "2  1325318040   NaN   NaN   NaN    NaN           NaN                NaN   \n",
      "3  1325318100   NaN   NaN   NaN    NaN           NaN                NaN   \n",
      "4  1325318160   NaN   NaN   NaN    NaN           NaN                NaN   \n",
      "\n",
      "   Weighted_Price  \n",
      "0            4.39  \n",
      "1             NaN  \n",
      "2             NaN  \n",
      "3             NaN  \n",
      "4             NaN  \n"
     ]
    }
   ],
   "source": [
    "# Display the first few rows of the dataset\n",
    "print(data.head())"
   ]
  },
  {
   "cell_type": "code",
   "execution_count": 3,
   "id": "529f96b0",
   "metadata": {},
   "outputs": [
    {
     "name": "stdout",
     "output_type": "stream",
     "text": [
      "Dataset Shape: (4857377, 8)\n"
     ]
    }
   ],
   "source": [
    "# Check the dimensions of the dataset\n",
    "print('Dataset Shape:', data.shape)"
   ]
  },
  {
   "cell_type": "code",
   "execution_count": 4,
   "id": "99ff42bb",
   "metadata": {},
   "outputs": [
    {
     "name": "stdout",
     "output_type": "stream",
     "text": [
      "Data Types: Timestamp              int64\n",
      "Open                 float64\n",
      "High                 float64\n",
      "Low                  float64\n",
      "Close                float64\n",
      "Volume_(BTC)         float64\n",
      "Volume_(Currency)    float64\n",
      "Weighted_Price       float64\n",
      "dtype: object\n"
     ]
    }
   ],
   "source": [
    "# Check the data types of each column\n",
    "print('Data Types:', data.dtypes)"
   ]
  },
  {
   "cell_type": "code",
   "execution_count": 5,
   "id": "887c311c",
   "metadata": {},
   "outputs": [
    {
     "name": "stdout",
     "output_type": "stream",
     "text": [
      "Summary Statistics:\n"
     ]
    },
    {
     "name": "stdout",
     "output_type": "stream",
     "text": [
      "          Timestamp          Open          High           Low         Close  \\\n",
      "count  4.857377e+06  3.613769e+06  3.613769e+06  3.613769e+06  3.613769e+06   \n",
      "mean   1.471301e+09  6.009024e+03  6.013357e+03  6.004488e+03  6.009014e+03   \n",
      "std    8.428019e+07  8.996247e+03  9.003521e+03  8.988778e+03  8.996360e+03   \n",
      "min    1.325318e+09  3.800000e+00  3.800000e+00  1.500000e+00  1.500000e+00   \n",
      "25%    1.398179e+09  4.438600e+02  4.440000e+02  4.435200e+02  4.438600e+02   \n",
      "50%    1.471428e+09  3.596970e+03  3.598190e+03  3.595620e+03  3.597000e+03   \n",
      "75%    1.544288e+09  8.627270e+03  8.632980e+03  8.621090e+03  8.627160e+03   \n",
      "max    1.617149e+09  6.176356e+04  6.178183e+04  6.167355e+04  6.178180e+04   \n",
      "\n",
      "       Volume_(BTC)  Volume_(Currency)  Weighted_Price  \n",
      "count  3.613769e+06       3.613769e+06    3.613769e+06  \n",
      "mean   9.323249e+00       4.176284e+04    6.008935e+03  \n",
      "std    3.054989e+01       1.518248e+05    8.995992e+03  \n",
      "min    0.000000e+00       0.000000e+00    3.800000e+00  \n",
      "25%    4.097759e-01       4.521422e+02    4.438306e+02  \n",
      "50%    1.979811e+00       3.810124e+03    3.596804e+03  \n",
      "75%    7.278216e+00       2.569821e+04    8.627637e+03  \n",
      "max    5.853852e+03       1.390067e+07    6.171621e+04  \n"
     ]
    }
   ],
   "source": [
    "# Summary statistics\n",
    "print('Summary Statistics:')\n",
    "print(data.describe())"
   ]
  },
  {
   "cell_type": "markdown",
   "id": "3717ef3a",
   "metadata": {},
   "source": [
    "# Data Preprocessing"
   ]
  },
  {
   "cell_type": "code",
   "execution_count": 6,
   "id": "61a38d32",
   "metadata": {},
   "outputs": [
    {
     "name": "stdout",
     "output_type": "stream",
     "text": [
      "Missing Values:\n",
      "Timestamp                  0\n",
      "Open                 1243608\n",
      "High                 1243608\n",
      "Low                  1243608\n",
      "Close                1243608\n",
      "Volume_(BTC)         1243608\n",
      "Volume_(Currency)    1243608\n",
      "Weighted_Price       1243608\n",
      "dtype: int64\n"
     ]
    }
   ],
   "source": [
    "# Check for missing values\n",
    "missing_values = data.isnull().sum()\n",
    "print('Missing Values:')\n",
    "print(missing_values)"
   ]
  },
  {
   "cell_type": "code",
   "execution_count": 7,
   "id": "eb378981",
   "metadata": {},
   "outputs": [],
   "source": [
    "df=data"
   ]
  },
  {
   "cell_type": "code",
   "execution_count": 8,
   "id": "b3775901",
   "metadata": {},
   "outputs": [],
   "source": [
    "# Convert Unix time to datetime\n",
    "df['Timestamp'] = pd.to_datetime(df['Timestamp'], unit='s')\n",
    "\n",
    "# Resample to daily frequency\n",
    "df_daily = df.resample('D', on='Timestamp').mean()\n",
    "\n",
    "# Resample to monthly frequency\n",
    "df_monthly = df.resample('M', on='Timestamp').mean()\n",
    "\n",
    "# Resample to annual frequency\n",
    "df_annual = df.resample('A-DEC', on='Timestamp').mean()\n",
    "\n",
    "# Resample to quarterly frequency\n",
    "df_quarterly = df.resample('Q-DEC', on='Timestamp').mean()"
   ]
  },
  {
   "cell_type": "markdown",
   "id": "454cc955",
   "metadata": {},
   "source": [
    "# Handling Missing Values"
   ]
  },
  {
   "cell_type": "code",
   "execution_count": 9,
   "id": "1d0f4995",
   "metadata": {},
   "outputs": [],
   "source": [
    "# Handling missing values in df_daily\n",
    "df_daily = df_daily.fillna(df_daily.mean())\n",
    "\n",
    "# Handling missing values in df_monthly\n",
    "df_monthly = df_monthly.fillna(df_monthly.mean())\n",
    "\n",
    "# Handling missing values in df_annual\n",
    "df_annual = df_annual.fillna(df_annual.mean())\n",
    "\n",
    "# Handling missing values in df_quarterly\n",
    "df_quarterly = df_quarterly.fillna(df_quarterly.mean())"
   ]
  },
  {
   "cell_type": "markdown",
   "id": "ec27a7a5",
   "metadata": {},
   "source": [
    "# Feature Engineering"
   ]
  },
  {
   "cell_type": "code",
   "execution_count": 10,
   "id": "4eb654d1",
   "metadata": {},
   "outputs": [],
   "source": [
    "# Calculate the daily percentage change in Bitcoin price\n",
    "df_daily['Price_Pct_Change'] = df_daily['Close'].pct_change()\n",
    "\n",
    "# Calculate 3-month moving average for df_monthly\n",
    "df_monthly['Moving_Average_3M'] = df_monthly['Close'].rolling(window=3).mean()\n",
    "\n",
    "# Calculate 6-month moving average for df_monthly\n",
    "df_monthly['Moving_Average_6M'] = df_monthly['Close'].rolling(window=6).mean()\n",
    "\n",
    "# Calculate 12-month moving average for df_annual\n",
    "df_annual['Moving_Average_12M'] = df_annual['Close'].rolling(window=12).mean()\n",
    "\n",
    "# Calculate 3-month rolling standard deviation for df_quarterly\n",
    "df_quarterly['Rolling_Std_3M'] = df_quarterly['Close'].rolling(window=3).std()\n",
    "\n",
    "# Calculate 6-month rolling standard deviation for df_quarterly\n",
    "df_quarterly['Rolling_Std_6M'] = df_quarterly['Close'].rolling(window=6).std()"
   ]
  },
  {
   "cell_type": "code",
   "execution_count": 11,
   "id": "3c133a74",
   "metadata": {},
   "outputs": [
    {
     "data": {
      "text/html": [
       "<div>\n",
       "<style scoped>\n",
       "    .dataframe tbody tr th:only-of-type {\n",
       "        vertical-align: middle;\n",
       "    }\n",
       "\n",
       "    .dataframe tbody tr th {\n",
       "        vertical-align: top;\n",
       "    }\n",
       "\n",
       "    .dataframe thead th {\n",
       "        text-align: right;\n",
       "    }\n",
       "</style>\n",
       "<table border=\"1\" class=\"dataframe\">\n",
       "  <thead>\n",
       "    <tr style=\"text-align: right;\">\n",
       "      <th></th>\n",
       "      <th>Timestamp</th>\n",
       "      <th>Open</th>\n",
       "      <th>High</th>\n",
       "      <th>Low</th>\n",
       "      <th>Close</th>\n",
       "      <th>Volume_(BTC)</th>\n",
       "      <th>Volume_(Currency)</th>\n",
       "      <th>Weighted_Price</th>\n",
       "    </tr>\n",
       "  </thead>\n",
       "  <tbody>\n",
       "    <tr>\n",
       "      <th>0</th>\n",
       "      <td>2011-12-31 07:52:00</td>\n",
       "      <td>4.39</td>\n",
       "      <td>4.39</td>\n",
       "      <td>4.39</td>\n",
       "      <td>4.39</td>\n",
       "      <td>0.455581</td>\n",
       "      <td>2.0</td>\n",
       "      <td>4.39</td>\n",
       "    </tr>\n",
       "    <tr>\n",
       "      <th>1</th>\n",
       "      <td>2011-12-31 07:53:00</td>\n",
       "      <td>NaN</td>\n",
       "      <td>NaN</td>\n",
       "      <td>NaN</td>\n",
       "      <td>NaN</td>\n",
       "      <td>NaN</td>\n",
       "      <td>NaN</td>\n",
       "      <td>NaN</td>\n",
       "    </tr>\n",
       "    <tr>\n",
       "      <th>2</th>\n",
       "      <td>2011-12-31 07:54:00</td>\n",
       "      <td>NaN</td>\n",
       "      <td>NaN</td>\n",
       "      <td>NaN</td>\n",
       "      <td>NaN</td>\n",
       "      <td>NaN</td>\n",
       "      <td>NaN</td>\n",
       "      <td>NaN</td>\n",
       "    </tr>\n",
       "    <tr>\n",
       "      <th>3</th>\n",
       "      <td>2011-12-31 07:55:00</td>\n",
       "      <td>NaN</td>\n",
       "      <td>NaN</td>\n",
       "      <td>NaN</td>\n",
       "      <td>NaN</td>\n",
       "      <td>NaN</td>\n",
       "      <td>NaN</td>\n",
       "      <td>NaN</td>\n",
       "    </tr>\n",
       "    <tr>\n",
       "      <th>4</th>\n",
       "      <td>2011-12-31 07:56:00</td>\n",
       "      <td>NaN</td>\n",
       "      <td>NaN</td>\n",
       "      <td>NaN</td>\n",
       "      <td>NaN</td>\n",
       "      <td>NaN</td>\n",
       "      <td>NaN</td>\n",
       "      <td>NaN</td>\n",
       "    </tr>\n",
       "  </tbody>\n",
       "</table>\n",
       "</div>"
      ],
      "text/plain": [
       "            Timestamp  Open  High   Low  Close  Volume_(BTC)  \\\n",
       "0 2011-12-31 07:52:00  4.39  4.39  4.39   4.39      0.455581   \n",
       "1 2011-12-31 07:53:00   NaN   NaN   NaN    NaN           NaN   \n",
       "2 2011-12-31 07:54:00   NaN   NaN   NaN    NaN           NaN   \n",
       "3 2011-12-31 07:55:00   NaN   NaN   NaN    NaN           NaN   \n",
       "4 2011-12-31 07:56:00   NaN   NaN   NaN    NaN           NaN   \n",
       "\n",
       "   Volume_(Currency)  Weighted_Price  \n",
       "0                2.0            4.39  \n",
       "1                NaN             NaN  \n",
       "2                NaN             NaN  \n",
       "3                NaN             NaN  \n",
       "4                NaN             NaN  "
      ]
     },
     "execution_count": 11,
     "metadata": {},
     "output_type": "execute_result"
    }
   ],
   "source": [
    "df.head()"
   ]
  },
  {
   "cell_type": "markdown",
   "id": "1fb2029d",
   "metadata": {},
   "source": [
    "# Exploratory Data Analysis"
   ]
  },
  {
   "cell_type": "code",
   "execution_count": 12,
   "id": "e95d93f1",
   "metadata": {},
   "outputs": [
    {
     "data": {
      "image/png": "[encoded data removed]",
      "text/plain": [
       "<Figure size 1000x500 with 1 Axes>"
      ]
     },
     "metadata": {},
     "output_type": "display_data"
    }
   ],
   "source": [
    "import matplotlib.pyplot as plt\n",
    "\n",
    "# Convert Unix time to datetime\n",
    "df['Timestamp'] = pd.to_datetime(df['Timestamp'], unit='s')\n",
    "\n",
    "# Set the Timestamp column as the index\n",
    "df.set_index('Timestamp', inplace=True)\n",
    "\n",
    "# Plot 1: Line chart of Bitcoin closing prices over time\n",
    "plt.figure(figsize=(10, 5))\n",
    "plt.plot(df.index, df['Close'])\n",
    "plt.title('Bitcoin Closing Prices over Time')\n",
    "plt.xlabel('Time')\n",
    "plt.ylabel('Closing Price')\n",
    "plt.xticks(rotation=45)\n",
    "plt.grid(True)\n",
    "plt.show()"
   ]
  },
  {
   "cell_type": "code",
   "execution_count": 13,
   "id": "4ddbea69",
   "metadata": {},
   "outputs": [
    {
     "data": {
      "image/png": "[encoded data removed]",
      "text/plain": [
       "<Figure size 1000x500 with 1 Axes>"
      ]
     },
     "metadata": {},
     "output_type": "display_data"
    }
   ],
   "source": [
    "# Plot 2: Line chart of Bitcoin closing prices over time\n",
    "plt.figure(figsize=(10, 5))\n",
    "plt.plot(df.index, df['Weighted_Price'])\n",
    "plt.title('Bitcoin Weighted Price over Time')\n",
    "plt.xlabel('Time')\n",
    "plt.ylabel('Weighted Price')\n",
    "plt.xticks(rotation=45)\n",
    "plt.grid(True)\n",
    "plt.show()"
   ]
  },
  {
   "cell_type": "code",
   "execution_count": 14,
   "id": "c3bd07d6",
   "metadata": {},
   "outputs": [
    {
     "data": {
      "image/png": "[encoded data removed]",
      "text/plain": [
       "<Figure size 1000x500 with 1 Axes>"
      ]
     },
     "metadata": {},
     "output_type": "display_data"
    }
   ],
   "source": [
    "# Plot 3: Candlestick chart of Bitcoin prices\n",
    "plt.figure(figsize=(10, 5))\n",
    "plt.plot(df.index, df['Open'], color='green', label='Open')\n",
    "plt.plot(df.index, df['Close'], color='red', label='Close')\n",
    "plt.plot(df.index, df['High'], color='blue', label='High')\n",
    "plt.plot(df.index, df['Low'], color='orange', label='Low')\n",
    "plt.title('Bitcoin Candlestick Chart')\n",
    "plt.xlabel('Time')\n",
    "plt.ylabel('Price')\n",
    "plt.xticks(rotation=45)\n",
    "plt.legend()\n",
    "plt.grid(True)\n",
    "plt.show()"
   ]
  },
  {
   "cell_type": "code",
   "execution_count": 15,
   "id": "4ef22f0e",
   "metadata": {},
   "outputs": [
    {
     "data": {
      "image/png": "[encoded data removed]",
      "text/plain": [
       "<Figure size 1000x500 with 1 Axes>"
      ]
     },
     "metadata": {},
     "output_type": "display_data"
    }
   ],
   "source": [
    "# Plot 4: Histogram of Bitcoin daily trading volume\n",
    "plt.figure(figsize=(10, 5))\n",
    "plt.hist(df['Volume_(BTC)'], bins=30)\n",
    "plt.title('Bitcoin Daily Trading Volume')\n",
    "plt.xlabel('Volume (BTC)')\n",
    "plt.ylabel('Frequency')\n",
    "plt.grid(True)\n",
    "plt.show()"
   ]
  },
  {
   "cell_type": "code",
   "execution_count": 16,
   "id": "86a5274e",
   "metadata": {},
   "outputs": [
    {
     "data": {
      "image/png": "[encoded data removed]",
      "text/plain": [
       "<Figure size 1000x500 with 1 Axes>"
      ]
     },
     "metadata": {},
     "output_type": "display_data"
    }
   ],
   "source": [
    "# Plot 5: Scatter plot of Bitcoin closing prices and volume\n",
    "plt.figure(figsize=(10, 5))\n",
    "plt.scatter(df['Close'], df['Volume_(BTC)'])\n",
    "plt.title('Bitcoin Closing Prices vs. Volume')\n",
    "plt.xlabel('Closing Price')\n",
    "plt.ylabel('Volume (BTC)')\n",
    "plt.grid(True)\n",
    "plt.show()"
   ]
  },
  {
   "cell_type": "code",
   "execution_count": 17,
   "id": "b4f71175",
   "metadata": {},
   "outputs": [
    {
     "data": {
      "text/plain": [
       "<Figure size 1000x500 with 0 Axes>"
      ]
     },
     "metadata": {},
     "output_type": "display_data"
    },
    {
     "data": {
      "image/png": "[encoded data removed]",
      "text/plain": [
       "<Figure size 640x480 with 1 Axes>"
      ]
     },
     "metadata": {},
     "output_type": "display_data"
    }
   ],
   "source": [
    "# Plot 6: Box plot of Bitcoin daily trading volume by month\n",
    "df['Month'] = df.index.month\n",
    "plt.figure(figsize=(10, 5))\n",
    "df.boxplot(column='Volume_(BTC)', by='Month')\n",
    "plt.title('Bitcoin Daily Trading Volume by Month')\n",
    "plt.xlabel('Month')\n",
    "plt.ylabel('Volume (BTC)')\n",
    "plt.grid(True)\n",
    "plt.show()"
   ]
  },
  {
   "cell_type": "markdown",
   "id": "c371bb25",
   "metadata": {},
   "source": [
    "# Model Selection"
   ]
  },
  {
   "cell_type": "code",
   "execution_count": 18,
   "id": "b782889e",
   "metadata": {},
   "outputs": [
    {
     "name": "stderr",
     "output_type": "stream",
     "text": [
      "2023-12-25 21:09:30.187255: I tensorflow/core/platform/cpu_feature_guard.cc:182] This TensorFlow binary is optimized to use available CPU instructions in performance-critical operations.\n",
      "To enable the following instructions: AVX2 FMA, in other operations, rebuild TensorFlow with the appropriate compiler flags.\n"
     ]
    }
   ],
   "source": [
    "from statsmodels.tsa.arima.model import ARIMA\n",
    "from statsmodels.tsa.statespace.sarimax import SARIMAX\n",
    "from sklearn.preprocessing import MinMaxScaler\n",
    "from sklearn.ensemble import GradientBoostingRegressor\n",
    "from sklearn.metrics import mean_squared_error\n",
    "from tensorflow.keras.models import Sequential\n",
    "from tensorflow.keras.layers import LSTM, Dense"
   ]
  },
  {
   "cell_type": "code",
   "execution_count": 19,
   "id": "b69ab6ee",
   "metadata": {},
   "outputs": [],
   "source": [
    "# Split data into train and test sets\n",
    "train_size = int(len(df_daily) * 0.8)\n",
    "train_data, test_data = df_daily[:train_size], df_daily[train_size:]"
   ]
  },
  {
   "cell_type": "code",
   "execution_count": 20,
   "id": "6123d4ca",
   "metadata": {},
   "outputs": [],
   "source": [
    "# Scale the data\n",
    "scaler = MinMaxScaler()\n",
    "scaled_train_data = scaler.fit_transform(train_data[['Close']])\n",
    "scaled_test_data = scaler.transform(test_data[['Close']])"
   ]
  },
  {
   "cell_type": "code",
   "execution_count": 21,
   "id": "c2a32aa8",
   "metadata": {},
   "outputs": [],
   "source": [
    "# ARIMA model\n",
    "arima_model = ARIMA(train_data['Close'], order=(1, 1, 1))\n",
    "arima_model_fit = arima_model.fit()\n",
    "arima_predictions = arima_model_fit.predict(start=len(train_data), end=len(train_data) + len(test_data) - 1)"
   ]
  },
  {
   "cell_type": "code",
   "execution_count": 22,
   "id": "607150d2",
   "metadata": {},
   "outputs": [
    {
     "name": "stdout",
     "output_type": "stream",
     "text": [
      "RUNNING THE L-BFGS-B CODE\n",
      "\n",
      "           * * *\n",
      "\n",
      "Machine precision = 2.220D-16\n",
      " N =            4     M =           10\n",
      "\n",
      "At X0         0 variables are exactly at the bounds\n",
      "\n",
      "At iterate    0    f=  6.85574D+00    |proj g|=  5.56259D-02\n"
     ]
    },
    {
     "name": "stderr",
     "output_type": "stream",
     "text": [
      " This problem is unconstrained.\n"
     ]
    },
    {
     "name": "stdout",
     "output_type": "stream",
     "text": [
      "\n",
      "At iterate    5    f=  6.82255D+00    |proj g|=  3.41366D-03\n",
      "\n",
      "At iterate   10    f=  6.73476D+00    |proj g|=  9.10641D-04\n",
      "\n",
      "At iterate   15    f=  6.73408D+00    |proj g|=  5.96190D-04\n",
      "\n",
      "           * * *\n",
      "\n",
      "Tit   = total number of iterations\n",
      "Tnf   = total number of function evaluations\n",
      "Tnint = total number of segments explored during Cauchy searches\n",
      "Skip  = number of BFGS updates skipped\n",
      "Nact  = number of active bounds at final generalized Cauchy point\n",
      "Projg = norm of the final projected gradient\n",
      "F     = final function value\n",
      "\n",
      "           * * *\n",
      "\n",
      "   N    Tit     Tnf  Tnint  Skip  Nact     Projg        F\n",
      "    4     19     28      1     0     0   3.108D-06   6.733D+00\n",
      "  F =   6.7331943808540711     \n",
      "\n",
      "CONVERGENCE: NORM_OF_PROJECTED_GRADIENT_<=_PGTOL            \n"
     ]
    }
   ],
   "source": [
    "# SARIMA model\n",
    "sarima_model = SARIMAX(train_data['Close'], order=(1, 1, 1), seasonal_order=(0, 1, 1, 12))\n",
    "sarima_model_fit = sarima_model.fit()\n",
    "sarima_predictions = sarima_model_fit.predict(start=len(train_data), end=len(train_data) + len(test_data) - 1)"
   ]
  },
  {
   "cell_type": "code",
   "execution_count": 23,
   "id": "e2932cc3",
   "metadata": {},
   "outputs": [
    {
     "name": "stdout",
     "output_type": "stream",
     "text": [
      "22/22 [==============================] - 9s 11ms/step\n"
     ]
    }
   ],
   "source": [
    "# LSTM model\n",
    "def create_lstm_model():\n",
    "    model = Sequential()\n",
    "    model.add(LSTM(128, input_shape=(1, 1)))\n",
    "    model.add(Dense(1))\n",
    "    model.compile(loss='mean_squared_error', optimizer='adam')\n",
    "    return model\n",
    "\n",
    "lstm_model = create_lstm_model()\n",
    "lstm_history = lstm_model.fit(np.expand_dims(scaled_train_data, axis=-1),\n",
    "                              np.expand_dims(scaled_train_data, axis=-1),\n",
    "                              epochs=10, batch_size=1, verbose=0)\n",
    "lstm_predictions = lstm_model.predict(np.expand_dims(scaled_test_data, axis=-1))"
   ]
  },
  {
   "cell_type": "code",
   "execution_count": 24,
   "id": "5a090613",
   "metadata": {},
   "outputs": [],
   "source": [
    "# Gradient Boosting Regressor model\n",
    "gbr_model = GradientBoostingRegressor()\n",
    "gbr_model.fit(np.arange(len(train_data)).reshape(-1, 1), train_data['Close'])\n",
    "gbr_predictions = gbr_model.predict(np.arange(len(train_data), len(train_data) + len(test_data)).reshape(-1, 1))"
   ]
  },
  {
   "cell_type": "code",
   "execution_count": 25,
   "id": "68c2c0e4",
   "metadata": {},
   "outputs": [
    {
     "name": "stdout",
     "output_type": "stream",
     "text": [
      "ARIMA RMSE: 14490.546813749346\n",
      "SARIMA RMSE: 13692.218756544065\n",
      "LSTM RMSE: 19658.41220626626\n",
      "Gradient Boosting Regressor RMSE: 14573.196791659071\n"
     ]
    }
   ],
   "source": [
    "# Calculate RMSE for each model\n",
    "arima_rmse = np.sqrt(mean_squared_error(test_data['Close'], arima_predictions))\n",
    "sarima_rmse = np.sqrt(mean_squared_error(test_data['Close'], sarima_predictions))\n",
    "lstm_rmse = np.sqrt(mean_squared_error(test_data['Close'], lstm_predictions))\n",
    "gbr_rmse = np.sqrt(mean_squared_error(test_data['Close'], gbr_predictions))\n",
    "\n",
    "# Print the RMSE values\n",
    "print(f\"ARIMA RMSE: {arima_rmse}\")\n",
    "print(f\"SARIMA RMSE: {sarima_rmse}\")\n",
    "print(f\"LSTM RMSE: {lstm_rmse}\")\n",
    "print(f\"Gradient Boosting Regressor RMSE: {gbr_rmse}\")"
   ]
  },
  {
   "cell_type": "code",
   "execution_count": 26,
   "id": "d9abf787",
   "metadata": {},
   "outputs": [
    {
     "data": {
      "image/png": "[encoded data removed]",
      "text/plain": [
       "<Figure size 1000x600 with 1 Axes>"
      ]
     },
     "metadata": {},
     "output_type": "display_data"
    }
   ],
   "source": [
    "# Define the models and RMSE values\n",
    "models = ['ARIMA', 'SARIMA', 'LSTM', 'Gradient Boosting Regressor']\n",
    "rmse_values = [arima_rmse, sarima_rmse, lstm_rmse, gbr_rmse]\n",
    "\n",
    "# Plot the bar graph\n",
    "plt.figure(figsize=(10, 6))\n",
    "plt.bar(models, rmse_values)\n",
    "plt.title('RMSE Comparison of Prediction Models')\n",
    "plt.xlabel('Model')\n",
    "plt.ylabel('RMSE')\n",
    "plt.xticks(rotation=45)\n",
    "plt.grid(True)\n",
    "plt.show()"
   ]
  },
  {
   "cell_type": "raw",
   "id": "fb995b69",
   "metadata": {},
   "source": [
    "Based on the provided RMSE values, we can draw the following conclusions:\n",
    "\n",
    "ARIMA Model: The ARIMA model has an RMSE of 14490.55. This indicates that, on average, the predictions of the ARIMA model deviate from the actual values by approximately 14490.55 units.\n",
    "\n",
    "SARIMA Model: The SARIMA model has an RMSE of 13692.22. This indicates that it performs slightly better than the ARIMA model, with lower prediction errors.\n",
    "\n",
    "LSTM Model: The LSTM model has an RMSE of 19658.40. It appears to have higher prediction errors compared to the ARIMA and SARIMA models.\n",
    "\n",
    "Gradient Boosting Regressor Model: The Gradient Boosting Regressor model has an RMSE of 14573.20. It performs similarly to the ARIMA model in terms of prediction errors.\n",
    "\n",
    "Based on these results, the SARIMA model seems to be the best performer among the tested models, as it has the lowest RMSE value. However, it's important to note that RMSE alone may not provide a complete assessment of model performance. It's recommended to consider other evaluation metrics and also assess the models based on their suitability for the specific problem and dataset.\n",
    "\n",
    "Additionally, it's worth mentioning that the chosen models and their hyperparameters can still be further optimized to potentially improve their performance.\n",
    "\n",
    "Overall, the conclusion would be that the SARIMA model shows promise in predicting Bitcoin prices, but further analysis and experimentation are required to develop a more accurate and reliable forecasting model."
   ]
  },
  {
   "cell_type": "markdown",
   "id": "0d60b1b6",
   "metadata": {},
   "source": [
    "# SARIMAX"
   ]
  },
  {
   "cell_type": "code",
   "execution_count": 27,
   "id": "a93b2623",
   "metadata": {},
   "outputs": [],
   "source": [
    "###SARIMAX###\n",
    "import itertools\n",
    "#Constructs all possible parameter combinations.\n",
    "p = d = q = range(0,2)\n",
    "pdq = list(itertools.product(p,d,q))\n",
    "\n",
    "seasonal_pdq = [(x[0],x[1],x[2],12) for x in list(itertools.product(p,d,q))]\n"
   ]
  },
  {
   "cell_type": "code",
   "execution_count": 28,
   "id": "01cc6ec2",
   "metadata": {},
   "outputs": [],
   "source": [
    "\n",
    "def sarimax_function(data,pdq,s_pdq):\n",
    "\n",
    "    \"\"\"\n",
    "    The function uses a brute force approach to apply all possible pdq combinations and evaluate the model\n",
    "    \"\"\"\n",
    "\n",
    "    result_list = []\n",
    "    for param in pdq:\n",
    "        for s_param in s_pdq:\n",
    "\n",
    "            model = sm.tsa.statespace.SARIMAX(data, order=param, seasonal_order=s_param,\n",
    "            enforce_invertibility=False,enforce_stationarity=False)\n",
    "\n",
    "            results = model.fit()\n",
    "            result_list.append([param,s_param,results.aic])\n",
    "            print(\"ARIMA Parameters: {} x: {}. AIC: {}\".format(param,s_param,results.aic))\n",
    "\n",
    "    return result_list,results"
   ]
  },
  {
   "cell_type": "code",
   "execution_count": 29,
   "id": "6065e31e",
   "metadata": {},
   "outputs": [
    {
     "name": "stdout",
     "output_type": "stream",
     "text": [
      "RUNNING THE L-BFGS-B CODE\n",
      "\n",
      "           * * *\n",
      "\n",
      "Machine precision = 2.220D-16\n",
      " N =            1     M =           10\n",
      "\n",
      "At X0         0 variables are exactly at the bounds\n",
      "\n",
      "At iterate    0    f=  1.04719D+01    |proj g|=  9.55325D-07\n",
      "\n",
      "           * * *\n",
      "\n",
      "Tit   = total number of iterations\n",
      "Tnf   = total number of function evaluations\n",
      "Tnint = total number of segments explored during Cauchy searches\n",
      "Skip  = number of BFGS updates skipped\n",
      "Nact  = number of active bounds at final generalized Cauchy point\n",
      "Projg = norm of the final projected gradient\n",
      "F     = final function value\n",
      "\n",
      "           * * *\n",
      "\n",
      "   N    Tit     Tnf  Tnint  Skip  Nact     Projg        F\n",
      "    1      0      1      0     0     0   9.553D-07   1.047D+01\n",
      "  F =   10.471942894619588     \n",
      "\n",
      "CONVERGENCE: NORM_OF_PROJECTED_GRADIENT_<=_PGTOL            \n"
     ]
    },
    {
     "name": "stderr",
     "output_type": "stream",
     "text": [
      " This problem is unconstrained.\n"
     ]
    },
    {
     "name": "stdout",
     "output_type": "stream",
     "text": [
      "ARIMA Parameters: (0, 0, 0) x: (0, 0, 0, 12). AIC: 2347.7152083947876\n",
      "RUNNING THE L-BFGS-B CODE\n",
      "\n",
      "           * * *\n",
      "\n",
      "Machine precision = 2.220D-16\n",
      " N =            2     M =           10\n",
      "\n",
      "At X0         0 variables are exactly at the bounds\n",
      "\n",
      "At iterate    0    f=  9.57104D+00    |proj g|=  7.96183D-02\n"
     ]
    },
    {
     "name": "stderr",
     "output_type": "stream",
     "text": [
      " This problem is unconstrained.\n"
     ]
    },
    {
     "name": "stdout",
     "output_type": "stream",
     "text": [
      "\n",
      "At iterate    5    f=  9.56837D+00    |proj g|=  3.97261D-05\n",
      "\n",
      "           * * *\n",
      "\n",
      "Tit   = total number of iterations\n",
      "Tnf   = total number of function evaluations\n",
      "Tnint = total number of segments explored during Cauchy searches\n",
      "Skip  = number of BFGS updates skipped\n",
      "Nact  = number of active bounds at final generalized Cauchy point\n",
      "Projg = norm of the final projected gradient\n",
      "F     = final function value\n",
      "\n",
      "           * * *\n",
      "\n",
      "   N    Tit     Tnf  Tnint  Skip  Nact     Projg        F\n",
      "    2      5      7      1     0     0   3.973D-05   9.568D+00\n",
      "  F =   9.5683694757882449     \n",
      "\n",
      "CONVERGENCE: REL_REDUCTION_OF_F_<=_FACTR*EPSMCH             \n",
      "ARIMA Parameters: (0, 0, 0) x: (0, 0, 1, 12). AIC: 2147.314762576567\n",
      "RUNNING THE L-BFGS-B CODE\n",
      "\n",
      "           * * *\n",
      "\n",
      "Machine precision = 2.220D-16\n",
      " N =            1     M =           10\n",
      "\n",
      "At X0         0 variables are exactly at the bounds\n",
      "\n",
      "At iterate    0    f=  9.15718D+00    |proj g|=  1.62308D-05\n"
     ]
    },
    {
     "name": "stderr",
     "output_type": "stream",
     "text": [
      " This problem is unconstrained.\n"
     ]
    },
    {
     "name": "stdout",
     "output_type": "stream",
     "text": [
      "\n",
      "           * * *\n",
      "\n",
      "Tit   = total number of iterations\n",
      "Tnf   = total number of function evaluations\n",
      "Tnint = total number of segments explored during Cauchy searches\n",
      "Skip  = number of BFGS updates skipped\n",
      "Nact  = number of active bounds at final generalized Cauchy point\n",
      "Projg = norm of the final projected gradient\n",
      "F     = final function value\n",
      "\n",
      "           * * *\n",
      "\n",
      "   N    Tit     Tnf  Tnint  Skip  Nact     Projg        F\n",
      "    1      2      6      1     0     0   1.598D-06   9.154D+00\n",
      "  F =   9.1537159390687357     \n",
      "\n",
      "CONVERGENCE: NORM_OF_PROJECTED_GRADIENT_<=_PGTOL            \n",
      "ARIMA Parameters: (0, 0, 0) x: (0, 1, 0, 12). AIC: 2052.432370351397\n",
      "RUNNING THE L-BFGS-B CODE\n",
      "\n",
      "           * * *\n",
      "\n",
      "Machine precision = 2.220D-16\n",
      " N =            2     M =           10\n",
      "\n",
      "At X0         0 variables are exactly at the bounds\n",
      "\n",
      "At iterate    0    f=  8.12437D+00    |proj g|=  2.52020D-01\n"
     ]
    },
    {
     "name": "stderr",
     "output_type": "stream",
     "text": [
      " This problem is unconstrained.\n"
     ]
    },
    {
     "name": "stdout",
     "output_type": "stream",
     "text": [
      "\n",
      "At iterate    5    f=  8.09565D+00    |proj g|=  2.41435D-05\n",
      "\n",
      "           * * *\n",
      "\n",
      "Tit   = total number of iterations\n",
      "Tnf   = total number of function evaluations\n",
      "Tnint = total number of segments explored during Cauchy searches\n",
      "Skip  = number of BFGS updates skipped\n",
      "Nact  = number of active bounds at final generalized Cauchy point\n",
      "Projg = norm of the final projected gradient\n",
      "F     = final function value\n",
      "\n",
      "           * * *\n",
      "\n",
      "   N    Tit     Tnf  Tnint  Skip  Nact     Projg        F\n",
      "    2      5     10      1     0     0   2.414D-05   8.096D+00\n",
      "  F =   8.0956494116179076     \n",
      "\n",
      "CONVERGENCE: REL_REDUCTION_OF_F_<=_FACTR*EPSMCH             \n",
      "ARIMA Parameters: (0, 0, 0) x: (0, 1, 1, 12). AIC: 1817.4254682024114\n",
      "RUNNING THE L-BFGS-B CODE\n",
      "\n",
      "           * * *\n",
      "\n",
      "Machine precision = 2.220D-16\n",
      " N =            2     M =           10\n",
      "\n",
      "At X0         0 variables are exactly at the bounds\n",
      "\n",
      "At iterate    0    f=  9.20111D+00    |proj g|=  1.74332D-06\n",
      "\n",
      "           * * *\n",
      "\n",
      "Tit   = total number of iterations\n",
      "Tnf   = total number of function evaluations\n",
      "Tnint = total number of segments explored during Cauchy searches\n",
      "Skip  = number of BFGS updates skipped\n",
      "Nact  = number of active bounds at final generalized Cauchy point\n",
      "Projg = norm of the final projected gradient\n",
      "F     = final function value\n",
      "\n",
      "           * * *\n",
      "\n",
      "   N    Tit     Tnf  Tnint  Skip  Nact     Projg        F\n",
      "    2      0      1      0     0     0   1.743D-06   9.201D+00\n",
      "  F =   9.2011079634039543     \n",
      "\n",
      "CONVERGENCE: NORM_OF_PROJECTED_GRADIENT_<=_PGTOL            \n",
      "ARIMA Parameters: (0, 0, 0) x: (1, 0, 0, 12). AIC: 2065.0481838024857\n",
      "RUNNING THE L-BFGS-B CODE\n",
      "\n",
      "           * * *\n",
      "\n",
      "Machine precision = 2.220D-16\n",
      " N =            3     M =           10\n",
      "\n",
      "At X0         0 variables are exactly at the bounds\n",
      "\n",
      "At iterate    0    f=  9.09939D+00    |proj g|=  8.81081D-02\n"
     ]
    },
    {
     "name": "stderr",
     "output_type": "stream",
     "text": [
      " This problem is unconstrained.\n",
      " This problem is unconstrained.\n"
     ]
    },
    {
     "name": "stdout",
     "output_type": "stream",
     "text": [
      "\n",
      "At iterate    5    f=  9.01358D+00    |proj g|=  1.01817D-02\n",
      "\n",
      "           * * *\n",
      "\n",
      "Tit   = total number of iterations\n",
      "Tnf   = total number of function evaluations\n",
      "Tnint = total number of segments explored during Cauchy searches\n",
      "Skip  = number of BFGS updates skipped\n",
      "Nact  = number of active bounds at final generalized Cauchy point\n",
      "Projg = norm of the final projected gradient\n",
      "F     = final function value\n",
      "\n",
      "           * * *\n",
      "\n",
      "   N    Tit     Tnf  Tnint  Skip  Nact     Projg        F\n",
      "    3      7     11      1     0     0   5.684D-05   9.014D+00\n",
      "  F =   9.0135289996826913     \n",
      "\n",
      "CONVERGENCE: REL_REDUCTION_OF_F_<=_FACTR*EPSMCH             \n",
      "ARIMA Parameters: (0, 0, 0) x: (1, 0, 1, 12). AIC: 2025.0304959289228\n",
      "RUNNING THE L-BFGS-B CODE\n",
      "\n",
      "           * * *\n",
      "\n",
      "Machine precision = 2.220D-16\n",
      " N =            2     M =           10\n",
      "\n",
      "At X0         0 variables are exactly at the bounds\n",
      "\n",
      "At iterate    0    f=  8.18141D+00    |proj g|=  7.90124D-07\n",
      "\n",
      "           * * *\n",
      "\n",
      "Tit   = total number of iterations\n",
      "Tnf   = total number of function evaluations\n",
      "Tnint = total number of segments explored during Cauchy searches\n",
      "Skip  = number of BFGS updates skipped\n",
      "Nact  = number of active bounds at final generalized Cauchy point\n",
      "Projg = norm of the final projected gradient\n",
      "F     = final function value\n",
      "\n",
      "           * * *\n",
      "\n",
      "   N    Tit     Tnf  Tnint  Skip  Nact     Projg        F\n",
      "    2      0      1      0     0     0   7.901D-07   8.181D+00\n",
      "  F =   8.1814057880596760     \n",
      "\n",
      "CONVERGENCE: NORM_OF_PROJECTED_GRADIENT_<=_PGTOL            \n"
     ]
    },
    {
     "name": "stderr",
     "output_type": "stream",
     "text": [
      " This problem is unconstrained.\n"
     ]
    },
    {
     "name": "stdout",
     "output_type": "stream",
     "text": [
      "ARIMA Parameters: (0, 0, 0) x: (1, 1, 0, 12). AIC: 1836.6348965253674\n",
      "RUNNING THE L-BFGS-B CODE\n",
      "\n",
      "           * * *\n",
      "\n",
      "Machine precision = 2.220D-16\n",
      " N =            3     M =           10\n",
      "\n",
      "At X0         0 variables are exactly at the bounds\n",
      "\n",
      "At iterate    0    f=  8.15745D+00    |proj g|=  3.75136D-01\n"
     ]
    },
    {
     "name": "stderr",
     "output_type": "stream",
     "text": [
      " This problem is unconstrained.\n"
     ]
    },
    {
     "name": "stdout",
     "output_type": "stream",
     "text": [
      "\n",
      "At iterate    5    f=  8.09312D+00    |proj g|=  5.28018D-02\n",
      "\n",
      "At iterate   10    f=  8.06828D+00    |proj g|=  1.62211D-03\n",
      "\n",
      "           * * *\n",
      "\n",
      "Tit   = total number of iterations\n",
      "Tnf   = total number of function evaluations\n",
      "Tnint = total number of segments explored during Cauchy searches\n",
      "Skip  = number of BFGS updates skipped\n",
      "Nact  = number of active bounds at final generalized Cauchy point\n",
      "Projg = norm of the final projected gradient\n",
      "F     = final function value\n",
      "\n",
      "           * * *\n",
      "\n",
      "   N    Tit     Tnf  Tnint  Skip  Nact     Projg        F\n",
      "    3     13     18      1     0     0   3.222D-05   8.068D+00\n",
      "  F =   8.0682820043243808     \n",
      "\n",
      "CONVERGENCE: REL_REDUCTION_OF_F_<=_FACTR*EPSMCH             \n",
      "ARIMA Parameters: (0, 0, 0) x: (1, 1, 1, 12). AIC: 1813.2951689686613\n",
      "RUNNING THE L-BFGS-B CODE\n",
      "\n",
      "           * * *\n",
      "\n",
      "Machine precision = 2.220D-16\n",
      " N =            2     M =           10\n",
      "\n",
      "At X0         0 variables are exactly at the bounds\n",
      "\n",
      "At iterate    0    f=  1.06059D+01    |proj g|=  4.28470D-01\n"
     ]
    },
    {
     "name": "stderr",
     "output_type": "stream",
     "text": [
      " This problem is unconstrained.\n"
     ]
    },
    {
     "name": "stdout",
     "output_type": "stream",
     "text": [
      "\n",
      "At iterate    5    f=  1.00144D+01    |proj g|=  1.01581D-01\n",
      "\n",
      "At iterate   10    f=  1.00135D+01    |proj g|=  7.18140D-05\n",
      "\n",
      "           * * *\n",
      "\n",
      "Tit   = total number of iterations\n",
      "Tnf   = total number of function evaluations\n",
      "Tnint = total number of segments explored during Cauchy searches\n",
      "Skip  = number of BFGS updates skipped\n",
      "Nact  = number of active bounds at final generalized Cauchy point\n",
      "Projg = norm of the final projected gradient\n",
      "F     = final function value\n",
      "\n",
      "           * * *\n",
      "\n",
      "   N    Tit     Tnf  Tnint  Skip  Nact     Projg        F\n",
      "    2     10     22      1     0     0   7.181D-05   1.001D+01\n",
      "  F =   10.013521272383672     \n",
      "\n",
      "CONVERGENCE: REL_REDUCTION_OF_F_<=_FACTR*EPSMCH             \n",
      "ARIMA Parameters: (0, 0, 1) x: (0, 0, 0, 12). AIC: 2247.0287650139426\n"
     ]
    },
    {
     "name": "stderr",
     "output_type": "stream",
     "text": [
      " This problem is unconstrained.\n"
     ]
    },
    {
     "name": "stdout",
     "output_type": "stream",
     "text": [
      "RUNNING THE L-BFGS-B CODE\n",
      "\n",
      "           * * *\n",
      "\n",
      "Machine precision = 2.220D-16\n",
      " N =            3     M =           10\n",
      "\n",
      "At X0         0 variables are exactly at the bounds\n",
      "\n",
      "At iterate    0    f=  9.74574D+00    |proj g|=  3.54781D-01\n",
      "\n",
      "At iterate    5    f=  9.23241D+00    |proj g|=  2.01432D-01\n",
      "\n",
      "At iterate   10    f=  9.21898D+00    |proj g|=  2.37713D-03\n",
      "\n",
      "           * * *\n",
      "\n",
      "Tit   = total number of iterations\n",
      "Tnf   = total number of function evaluations\n",
      "Tnint = total number of segments explored during Cauchy searches\n",
      "Skip  = number of BFGS updates skipped\n",
      "Nact  = number of active bounds at final generalized Cauchy point\n",
      "Projg = norm of the final projected gradient\n",
      "F     = final function value\n",
      "\n",
      "           * * *\n",
      "\n",
      "   N    Tit     Tnf  Tnint  Skip  Nact     Projg        F\n",
      "    3     13     19      1     0     0   6.667D-05   9.219D+00\n",
      "  F =   9.2189773126106349     \n",
      "\n",
      "CONVERGENCE: REL_REDUCTION_OF_F_<=_FACTR*EPSMCH             \n",
      "ARIMA Parameters: (0, 0, 1) x: (0, 0, 1, 12). AIC: 2071.0509180247823\n",
      "RUNNING THE L-BFGS-B CODE\n",
      "\n",
      "           * * *\n",
      "\n",
      "Machine precision = 2.220D-16\n",
      " N =            2     M =           10\n",
      "\n",
      "At X0         0 variables are exactly at the bounds\n",
      "\n",
      "At iterate    0    f=  8.92814D+00    |proj g|=  5.56506D-01\n"
     ]
    },
    {
     "name": "stderr",
     "output_type": "stream",
     "text": [
      " This problem is unconstrained.\n"
     ]
    },
    {
     "name": "stdout",
     "output_type": "stream",
     "text": [
      "\n",
      "At iterate    5    f=  8.76124D+00    |proj g|=  8.63358D-02\n",
      "\n",
      "At iterate   10    f=  8.75960D+00    |proj g|=  7.36263D-05\n",
      "\n",
      "           * * *\n",
      "\n",
      "Tit   = total number of iterations\n",
      "Tnf   = total number of function evaluations\n",
      "Tnint = total number of segments explored during Cauchy searches\n",
      "Skip  = number of BFGS updates skipped\n",
      "Nact  = number of active bounds at final generalized Cauchy point\n",
      "Projg = norm of the final projected gradient\n",
      "F     = final function value\n",
      "\n",
      "           * * *\n",
      "\n",
      "   N    Tit     Tnf  Tnint  Skip  Nact     Projg        F\n",
      "    2     10     17      1     0     0   7.363D-05   8.760D+00\n",
      "  F =   8.7596030380838599     \n",
      "\n",
      "CONVERGENCE: REL_REDUCTION_OF_F_<=_FACTR*EPSMCH             \n",
      "ARIMA Parameters: (0, 0, 1) x: (0, 1, 0, 12). AIC: 1966.1510805307846\n",
      "RUNNING THE L-BFGS-B CODE\n",
      "\n",
      "           * * *\n",
      "\n",
      "Machine precision = 2.220D-16\n",
      " N =            3     M =           10\n",
      "\n",
      "At X0         0 variables are exactly at the bounds\n",
      "\n",
      "At iterate    0    f=  7.86540D+00    |proj g|=  4.27908D-01\n"
     ]
    },
    {
     "name": "stderr",
     "output_type": "stream",
     "text": [
      " This problem is unconstrained.\n"
     ]
    },
    {
     "name": "stdout",
     "output_type": "stream",
     "text": [
      "\n",
      "At iterate    5    f=  7.70648D+00    |proj g|=  1.98267D-02\n",
      "\n",
      "At iterate   10    f=  7.70501D+00    |proj g|=  2.46877D-04\n",
      "\n",
      "           * * *\n",
      "\n",
      "Tit   = total number of iterations\n",
      "Tnf   = total number of function evaluations\n",
      "Tnint = total number of segments explored during Cauchy searches\n",
      "Skip  = number of BFGS updates skipped\n",
      "Nact  = number of active bounds at final generalized Cauchy point\n",
      "Projg = norm of the final projected gradient\n",
      "F     = final function value\n",
      "\n",
      "           * * *\n",
      "\n",
      "   N    Tit     Tnf  Tnint  Skip  Nact     Projg        F\n",
      "    3     12     21      1     0     0   5.955D-05   7.705D+00\n",
      "  F =   7.7050091040816833     \n",
      "\n",
      "CONVERGENCE: REL_REDUCTION_OF_F_<=_FACTR*EPSMCH             \n",
      "ARIMA Parameters: (0, 0, 1) x: (0, 1, 1, 12). AIC: 1731.922039314297\n",
      "RUNNING THE L-BFGS-B CODE\n",
      "\n",
      "           * * *\n",
      "\n",
      "Machine precision = 2.220D-16\n",
      " N =            3     M =           10\n",
      "\n",
      "At X0         0 variables are exactly at the bounds\n",
      "\n",
      "At iterate    0    f=  9.63686D+00    |proj g|=  4.04536D-01\n"
     ]
    },
    {
     "name": "stderr",
     "output_type": "stream",
     "text": [
      " This problem is unconstrained.\n"
     ]
    },
    {
     "name": "stdout",
     "output_type": "stream",
     "text": [
      "\n",
      "At iterate    5    f=  9.05881D+00    |proj g|=  6.62719D-03\n",
      "\n",
      "At iterate   10    f=  9.05860D+00    |proj g|=  5.73285D-04\n",
      "\n",
      "           * * *\n",
      "\n",
      "Tit   = total number of iterations\n",
      "Tnf   = total number of function evaluations\n",
      "Tnint = total number of segments explored during Cauchy searches\n",
      "Skip  = number of BFGS updates skipped\n",
      "Nact  = number of active bounds at final generalized Cauchy point\n",
      "Projg = norm of the final projected gradient\n",
      "F     = final function value\n",
      "\n",
      "           * * *\n",
      "\n",
      "   N    Tit     Tnf  Tnint  Skip  Nact     Projg        F\n",
      "    3     12     17      1     0     0   7.534D-05   9.059D+00\n",
      "  F =   9.0585992616571893     \n",
      "\n",
      "CONVERGENCE: REL_REDUCTION_OF_F_<=_FACTR*EPSMCH             \n",
      "ARIMA Parameters: (0, 0, 1) x: (1, 0, 0, 12). AIC: 2035.1262346112103\n",
      "RUNNING THE L-BFGS-B CODE\n",
      "\n",
      "           * * *\n",
      "\n",
      "Machine precision = 2.220D-16\n",
      " N =            4     M =           10\n",
      "\n",
      "At X0         0 variables are exactly at the bounds\n",
      "\n",
      "At iterate    0    f=  9.44177D+00    |proj g|=  3.98170D-01\n"
     ]
    },
    {
     "name": "stderr",
     "output_type": "stream",
     "text": [
      " This problem is unconstrained.\n"
     ]
    },
    {
     "name": "stdout",
     "output_type": "stream",
     "text": [
      "\n",
      "At iterate    5    f=  8.86156D+00    |proj g|=  1.59617D-02\n",
      "\n",
      "At iterate   10    f=  8.86049D+00    |proj g|=  1.92436D-04\n",
      "\n",
      "           * * *\n",
      "\n",
      "Tit   = total number of iterations\n",
      "Tnf   = total number of function evaluations\n",
      "Tnint = total number of segments explored during Cauchy searches\n",
      "Skip  = number of BFGS updates skipped\n",
      "Nact  = number of active bounds at final generalized Cauchy point\n",
      "Projg = norm of the final projected gradient\n",
      "F     = final function value\n",
      "\n",
      "           * * *\n",
      "\n",
      "   N    Tit     Tnf  Tnint  Skip  Nact     Projg        F\n",
      "    4     12     17      1     0     0   7.803D-05   8.860D+00\n",
      "  F =   8.8604890608613527     \n",
      "\n",
      "CONVERGENCE: REL_REDUCTION_OF_F_<=_FACTR*EPSMCH             \n",
      "ARIMA Parameters: (0, 0, 1) x: (1, 0, 1, 12). AIC: 1992.7495496329432\n",
      "RUNNING THE L-BFGS-B CODE\n",
      "\n",
      "           * * *\n",
      "\n",
      "Machine precision = 2.220D-16\n",
      " N =            3     M =           10\n",
      "\n",
      "At X0         0 variables are exactly at the bounds\n",
      "\n",
      "At iterate    0    f=  8.02930D+00    |proj g|=  4.85962D-01\n"
     ]
    },
    {
     "name": "stderr",
     "output_type": "stream",
     "text": [
      " This problem is unconstrained.\n"
     ]
    },
    {
     "name": "stdout",
     "output_type": "stream",
     "text": [
      "\n",
      "At iterate    5    f=  7.88159D+00    |proj g|=  6.07665D-03\n",
      "\n",
      "At iterate   10    f=  7.88135D+00    |proj g|=  3.41548D-03\n",
      "\n",
      "           * * *\n",
      "\n",
      "Tit   = total number of iterations\n",
      "Tnf   = total number of function evaluations\n",
      "Tnint = total number of segments explored during Cauchy searches\n",
      "Skip  = number of BFGS updates skipped\n",
      "Nact  = number of active bounds at final generalized Cauchy point\n",
      "Projg = norm of the final projected gradient\n",
      "F     = final function value\n",
      "\n",
      "           * * *\n",
      "\n",
      "   N    Tit     Tnf  Tnint  Skip  Nact     Projg        F\n",
      "    3     13     18      1     0     0   6.183D-05   7.881D+00\n",
      "  F =   7.8813486744470689     \n",
      "\n",
      "CONVERGENCE: REL_REDUCTION_OF_F_<=_FACTR*EPSMCH             \n",
      "ARIMA Parameters: (0, 0, 1) x: (1, 1, 0, 12). AIC: 1771.4221030761435\n",
      "RUNNING THE L-BFGS-B CODE\n",
      "\n",
      "           * * *\n",
      "\n",
      "Machine precision = 2.220D-16\n",
      " N =            4     M =           10\n",
      "\n",
      "At X0         0 variables are exactly at the bounds\n",
      "\n",
      "At iterate    0    f=  7.87986D+00    |proj g|=  4.07291D-01\n"
     ]
    },
    {
     "name": "stderr",
     "output_type": "stream",
     "text": [
      " This problem is unconstrained.\n"
     ]
    },
    {
     "name": "stdout",
     "output_type": "stream",
     "text": [
      "\n",
      "At iterate    5    f=  7.70266D+00    |proj g|=  1.84820D-02\n",
      "\n",
      "At iterate   10    f=  7.69917D+00    |proj g|=  2.41067D-02\n",
      "\n",
      "At iterate   15    f=  7.69830D+00    |proj g|=  6.19023D-05\n",
      "\n",
      "At iterate   20    f=  7.69829D+00    |proj g|=  1.51666D-03\n",
      "\n",
      "At iterate   25    f=  7.69768D+00    |proj g|=  2.68363D-02\n",
      "\n",
      "At iterate   30    f=  7.68093D+00    |proj g|=  2.31668D-01\n",
      "\n",
      "At iterate   35    f=  7.63814D+00    |proj g|=  1.21577D-01\n",
      "\n",
      "At iterate   40    f=  7.59354D+00    |proj g|=  1.19622D-01\n",
      "\n",
      "At iterate   45    f=  7.55521D+00    |proj g|=  5.83457D-03\n",
      "\n",
      "           * * *\n",
      "\n",
      "Tit   = total number of iterations\n",
      "Tnf   = total number of function evaluations\n",
      "Tnint = total number of segments explored during Cauchy searches\n",
      "Skip  = number of BFGS updates skipped\n",
      "Nact  = number of active bounds at final generalized Cauchy point\n",
      "Projg = norm of the final projected gradient\n",
      "F     = final function value\n",
      "\n",
      "           * * *\n",
      "\n",
      "   N    Tit     Tnf  Tnint  Skip  Nact     Projg        F\n",
      "    4     49     62      1     0     0   2.415D-06   7.555D+00\n",
      "  F =   7.5551979242942844     \n",
      "\n",
      "CONVERGENCE: NORM_OF_PROJECTED_GRADIENT_<=_PGTOL            \n",
      "ARIMA Parameters: (0, 0, 1) x: (1, 1, 1, 12). AIC: 1700.3643350419197\n",
      "RUNNING THE L-BFGS-B CODE\n",
      "\n",
      "           * * *\n",
      "\n",
      "Machine precision = 2.220D-16\n",
      " N =            1     M =           10\n",
      "\n",
      "At X0         0 variables are exactly at the bounds\n",
      "\n",
      "At iterate    0    f=  8.95835D+00    |proj g|=  8.14122D-06\n",
      "\n",
      "           * * *\n",
      "\n",
      "Tit   = total number of iterations\n",
      "Tnf   = total number of function evaluations\n",
      "Tnint = total number of segments explored during Cauchy searches\n",
      "Skip  = number of BFGS updates skipped\n",
      "Nact  = number of active bounds at final generalized Cauchy point\n",
      "Projg = norm of the final projected gradient\n",
      "F     = final function value\n",
      "\n",
      "           * * *\n",
      "\n",
      "   N    Tit     Tnf  Tnint  Skip  Nact     Projg        F\n",
      "    1      0      1      0     0     0   8.141D-06   8.958D+00\n",
      "  F =   8.9583535278262882     \n",
      "\n",
      "CONVERGENCE: NORM_OF_PROJECTED_GRADIENT_<=_PGTOL            \n",
      "ARIMA Parameters: (0, 1, 0) x: (0, 0, 0, 12). AIC: 2008.6711902330885\n",
      "RUNNING THE L-BFGS-B CODE\n",
      "\n",
      "           * * *\n",
      "\n",
      "Machine precision = 2.220D-16\n",
      " N =            2     M =           10\n",
      "\n",
      "At X0         0 variables are exactly at the bounds\n",
      "\n",
      "At iterate    0    f=  8.04512D+00    |proj g|=  5.51490D-03\n",
      "\n",
      "At iterate    5    f=  8.04489D+00    |proj g|=  7.33529D-04\n"
     ]
    },
    {
     "name": "stderr",
     "output_type": "stream",
     "text": [
      " This problem is unconstrained.\n",
      " This problem is unconstrained.\n"
     ]
    },
    {
     "name": "stdout",
     "output_type": "stream",
     "text": [
      "\n",
      "At iterate   10    f=  8.04387D+00    |proj g|=  1.26767D-02\n",
      "\n",
      "At iterate   15    f=  8.02921D+00    |proj g|=  2.89047D-03\n",
      "\n",
      "           * * *\n",
      "\n",
      "Tit   = total number of iterations\n",
      "Tnf   = total number of function evaluations\n",
      "Tnint = total number of segments explored during Cauchy searches\n",
      "Skip  = number of BFGS updates skipped\n",
      "Nact  = number of active bounds at final generalized Cauchy point\n",
      "Projg = norm of the final projected gradient\n",
      "F     = final function value\n",
      "\n",
      "           * * *\n",
      "\n",
      "   N    Tit     Tnf  Tnint  Skip  Nact     Projg        F\n",
      "    2     17     20      1     0     0   5.983D-06   8.029D+00\n",
      "  F =   8.0291690659150863     \n",
      "\n",
      "CONVERGENCE: NORM_OF_PROJECTED_GRADIENT_<=_PGTOL            \n",
      "ARIMA Parameters: (0, 1, 0) x: (0, 0, 1, 12). AIC: 1802.5338707649794\n"
     ]
    },
    {
     "name": "stderr",
     "output_type": "stream",
     "text": [
      " This problem is unconstrained.\n",
      " This problem is unconstrained.\n"
     ]
    },
    {
     "name": "stdout",
     "output_type": "stream",
     "text": [
      "RUNNING THE L-BFGS-B CODE\n",
      "\n",
      "           * * *\n",
      "\n",
      "Machine precision = 2.220D-16\n",
      " N =            1     M =           10\n",
      "\n",
      "At X0         0 variables are exactly at the bounds\n",
      "\n",
      "At iterate    0    f=  8.13582D+00    |proj g|=  5.08230D-05\n",
      "\n",
      "           * * *\n",
      "\n",
      "Tit   = total number of iterations\n",
      "Tnf   = total number of function evaluations\n",
      "Tnint = total number of segments explored during Cauchy searches\n",
      "Skip  = number of BFGS updates skipped\n",
      "Nact  = number of active bounds at final generalized Cauchy point\n",
      "Projg = norm of the final projected gradient\n",
      "F     = final function value\n",
      "\n",
      "           * * *\n",
      "\n",
      "   N    Tit     Tnf  Tnint  Skip  Nact     Projg        F\n",
      "    1      2      5      1     0     0   5.724D-06   8.132D+00\n",
      "  F =   8.1318066454530129     \n",
      "\n",
      "CONVERGENCE: NORM_OF_PROJECTED_GRADIENT_<=_PGTOL            \n",
      "ARIMA Parameters: (0, 1, 0) x: (0, 1, 0, 12). AIC: 1823.524688581475\n",
      "RUNNING THE L-BFGS-B CODE\n",
      "\n",
      "           * * *\n",
      "\n",
      "Machine precision = 2.220D-16\n",
      " N =            2     M =           10\n",
      "\n",
      "At X0         0 variables are exactly at the bounds\n",
      "\n",
      "At iterate    0    f=  7.19022D+00    |proj g|=  7.41517D-02\n",
      "\n",
      "At iterate    5    f=  7.16218D+00    |proj g|=  3.90565D-04\n",
      "\n",
      "At iterate   10    f=  7.16114D+00    |proj g|=  2.08153D-02\n",
      "\n",
      "At iterate   15    f=  7.13223D+00    |proj g|=  6.49988D-02\n",
      "\n",
      "At iterate   20    f=  7.10963D+00    |proj g|=  2.39187D-02\n",
      "\n",
      "           * * *\n",
      "\n",
      "Tit   = total number of iterations\n",
      "Tnf   = total number of function evaluations\n",
      "Tnint = total number of segments explored during Cauchy searches\n",
      "Skip  = number of BFGS updates skipped\n",
      "Nact  = number of active bounds at final generalized Cauchy point\n",
      "Projg = norm of the final projected gradient\n",
      "F     = final function value\n",
      "\n",
      "           * * *\n",
      "\n",
      "   N    Tit     Tnf  Tnint  Skip  Nact     Projg        F\n",
      "    2     24     36      1     0     0   2.251D-05   7.109D+00\n",
      "  F =   7.1092407885051667     \n",
      "\n",
      "CONVERGENCE: REL_REDUCTION_OF_F_<=_FACTR*EPSMCH             \n",
      "ARIMA Parameters: (0, 1, 0) x: (0, 1, 1, 12). AIC: 1596.4699366251573\n"
     ]
    },
    {
     "name": "stderr",
     "output_type": "stream",
     "text": [
      " This problem is unconstrained.\n",
      " This problem is unconstrained.\n"
     ]
    },
    {
     "name": "stdout",
     "output_type": "stream",
     "text": [
      "RUNNING THE L-BFGS-B CODE\n",
      "\n",
      "           * * *\n",
      "\n",
      "Machine precision = 2.220D-16\n",
      " N =            2     M =           10\n",
      "\n",
      "At X0         0 variables are exactly at the bounds\n",
      "\n",
      "At iterate    0    f=  8.10769D+00    |proj g|=  9.20330D-07\n",
      "\n",
      "           * * *\n",
      "\n",
      "Tit   = total number of iterations\n",
      "Tnf   = total number of function evaluations\n",
      "Tnint = total number of segments explored during Cauchy searches\n",
      "Skip  = number of BFGS updates skipped\n",
      "Nact  = number of active bounds at final generalized Cauchy point\n",
      "Projg = norm of the final projected gradient\n",
      "F     = final function value\n",
      "\n",
      "           * * *\n",
      "\n",
      "   N    Tit     Tnf  Tnint  Skip  Nact     Projg        F\n",
      "    2      0      1      0     0     0   9.203D-07   8.108D+00\n",
      "  F =   8.1076927961765186     \n",
      "\n",
      "CONVERGENCE: NORM_OF_PROJECTED_GRADIENT_<=_PGTOL            \n",
      "ARIMA Parameters: (0, 1, 0) x: (1, 0, 0, 12). AIC: 1820.1231863435403\n",
      "RUNNING THE L-BFGS-B CODE\n",
      "\n",
      "           * * *\n",
      "\n",
      "Machine precision = 2.220D-16\n",
      " N =            3     M =           10\n",
      "\n",
      "At X0         0 variables are exactly at the bounds\n",
      "\n",
      "At iterate    0    f=  8.04517D+00    |proj g|=  3.63460D-03\n",
      "\n",
      "At iterate    5    f=  8.04415D+00    |proj g|=  1.73120D-03\n",
      "\n",
      "At iterate   10    f=  8.04414D+00    |proj g|=  4.68864D-04\n",
      "\n",
      "At iterate   15    f=  8.04387D+00    |proj g|=  8.30316D-03\n",
      "\n",
      "At iterate   20    f=  8.03266D+00    |proj g|=  4.59843D-02\n",
      "\n",
      "At iterate   25    f=  8.02811D+00    |proj g|=  1.45533D-05\n",
      "\n",
      "           * * *\n",
      "\n",
      "Tit   = total number of iterations\n",
      "Tnf   = total number of function evaluations\n",
      "Tnint = total number of segments explored during Cauchy searches\n",
      "Skip  = number of BFGS updates skipped\n",
      "Nact  = number of active bounds at final generalized Cauchy point\n",
      "Projg = norm of the final projected gradient\n",
      "F     = final function value\n",
      "\n",
      "           * * *\n",
      "\n",
      "   N    Tit     Tnf  Tnint  Skip  Nact     Projg        F\n",
      "    3     26     30      1     0     0   2.366D-07   8.028D+00\n",
      "  F =   8.0281072940072171     \n",
      "\n",
      "CONVERGENCE: NORM_OF_PROJECTED_GRADIENT_<=_PGTOL            \n",
      "ARIMA Parameters: (0, 1, 0) x: (1, 0, 1, 12). AIC: 1804.2960338576165\n",
      "RUNNING THE L-BFGS-B CODE\n",
      "\n",
      "           * * *\n",
      "\n",
      "Machine precision = 2.220D-16\n",
      " N =            2     M =           10\n",
      "\n",
      "At X0         0 variables are exactly at the bounds\n",
      "\n",
      "At iterate    0    f=  7.22904D+00    |proj g|=  1.46798D-06\n",
      "\n",
      "           * * *\n",
      "\n",
      "Tit   = total number of iterations\n",
      "Tnf   = total number of function evaluations\n",
      "Tnint = total number of segments explored during Cauchy searches\n",
      "Skip  = number of BFGS updates skipped\n",
      "Nact  = number of active bounds at final generalized Cauchy point\n",
      "Projg = norm of the final projected gradient\n",
      "F     = final function value\n",
      "\n",
      "           * * *\n",
      "\n",
      "   N    Tit     Tnf  Tnint  Skip  Nact     Projg        F\n",
      "    2      0      1      0     0     0   1.468D-06   7.229D+00\n",
      "  F =   7.2290425850075763     \n",
      "\n",
      "CONVERGENCE: NORM_OF_PROJECTED_GRADIENT_<=_PGTOL            \n",
      "ARIMA Parameters: (0, 1, 0) x: (1, 1, 0, 12). AIC: 1623.305539041697\n",
      "RUNNING THE L-BFGS-B CODE\n",
      "\n",
      "           * * *\n",
      "\n",
      "Machine precision = 2.220D-16\n",
      " N =            3     M =           10\n",
      "\n",
      "At X0         0 variables are exactly at the bounds\n",
      "\n",
      "At iterate    0    f=  7.17673D+00    |proj g|=  2.23311D-02\n"
     ]
    },
    {
     "name": "stderr",
     "output_type": "stream",
     "text": [
      " This problem is unconstrained.\n",
      " This problem is unconstrained.\n"
     ]
    },
    {
     "name": "stdout",
     "output_type": "stream",
     "text": [
      "\n",
      "At iterate    5    f=  7.14607D+00    |proj g|=  1.13921D-03\n",
      "\n",
      "At iterate   10    f=  7.14606D+00    |proj g|=  7.31951D-04\n",
      "\n",
      "At iterate   15    f=  7.14577D+00    |proj g|=  1.08343D-02\n",
      "\n",
      "At iterate   20    f=  7.13100D+00    |proj g|=  5.21598D-02\n",
      "\n",
      "At iterate   25    f=  7.12022D+00    |proj g|=  1.06311D-04\n",
      "\n",
      "           * * *\n",
      "\n",
      "Tit   = total number of iterations\n",
      "Tnf   = total number of function evaluations\n",
      "Tnint = total number of segments explored during Cauchy searches\n",
      "Skip  = number of BFGS updates skipped\n",
      "Nact  = number of active bounds at final generalized Cauchy point\n",
      "Projg = norm of the final projected gradient\n",
      "F     = final function value\n",
      "\n",
      "           * * *\n",
      "\n",
      "   N    Tit     Tnf  Tnint  Skip  Nact     Projg        F\n",
      "    3     27     31      1     0     0   1.695D-05   7.120D+00\n",
      "  F =   7.1202158684416945     \n",
      "\n",
      "CONVERGENCE: REL_REDUCTION_OF_F_<=_FACTR*EPSMCH             \n",
      "ARIMA Parameters: (0, 1, 0) x: (1, 1, 1, 12). AIC: 1600.9283545309395\n",
      "RUNNING THE L-BFGS-B CODE\n",
      "\n",
      "           * * *\n",
      "\n",
      "Machine precision = 2.220D-16\n",
      " N =            2     M =           10\n",
      "\n",
      "At X0         0 variables are exactly at the bounds\n",
      "\n",
      "At iterate    0    f=  8.64750D+00    |proj g|=  1.25290D-01\n",
      "\n",
      "At iterate    5    f=  8.64243D+00    |proj g|=  1.22321D-04\n",
      "\n",
      "At iterate   10    f=  8.64242D+00    |proj g|=  5.71369D-03\n"
     ]
    },
    {
     "name": "stderr",
     "output_type": "stream",
     "text": [
      " This problem is unconstrained.\n"
     ]
    },
    {
     "name": "stdout",
     "output_type": "stream",
     "text": [
      "\n",
      "At iterate   15    f=  8.64080D+00    |proj g|=  5.96489D-02\n",
      "\n",
      "At iterate   20    f=  8.63230D+00    |proj g|=  1.13598D-04\n",
      "\n",
      "           * * *\n",
      "\n",
      "Tit   = total number of iterations\n",
      "Tnf   = total number of function evaluations\n",
      "Tnint = total number of segments explored during Cauchy searches\n",
      "Skip  = number of BFGS updates skipped\n",
      "Nact  = number of active bounds at final generalized Cauchy point\n",
      "Projg = norm of the final projected gradient\n",
      "F     = final function value\n",
      "\n",
      "           * * *\n",
      "\n",
      "   N    Tit     Tnf  Tnint  Skip  Nact     Projg        F\n",
      "    2     21     24      1     0     0   1.558D-06   8.632D+00\n",
      "  F =   8.6322954169117061     \n",
      "\n",
      "CONVERGENCE: NORM_OF_PROJECTED_GRADIENT_<=_PGTOL            \n",
      "ARIMA Parameters: (0, 1, 1) x: (0, 0, 0, 12). AIC: 1937.6341733882223\n",
      "RUNNING THE L-BFGS-B CODE\n",
      "\n",
      "           * * *\n",
      "\n",
      "Machine precision = 2.220D-16\n",
      " N =            3     M =           10\n",
      "\n",
      "At X0         0 variables are exactly at the bounds\n",
      "\n",
      "At iterate    0    f=  7.73571D+00    |proj g|=  1.12799D-01\n"
     ]
    },
    {
     "name": "stderr",
     "output_type": "stream",
     "text": [
      " This problem is unconstrained.\n"
     ]
    },
    {
     "name": "stdout",
     "output_type": "stream",
     "text": [
      "\n",
      "At iterate    5    f=  7.73122D+00    |proj g|=  5.42098D-03\n",
      "\n",
      "           * * *\n",
      "\n",
      "Tit   = total number of iterations\n",
      "Tnf   = total number of function evaluations\n",
      "Tnint = total number of segments explored during Cauchy searches\n",
      "Skip  = number of BFGS updates skipped\n",
      "Nact  = number of active bounds at final generalized Cauchy point\n",
      "Projg = norm of the final projected gradient\n",
      "F     = final function value\n",
      "\n",
      "           * * *\n",
      "\n",
      "   N    Tit     Tnf  Tnint  Skip  Nact     Projg        F\n",
      "    3      8     10      1     0     0   4.465D-05   7.731D+00\n",
      "  F =   7.7311902712429950     \n",
      "\n",
      "CONVERGENCE: REL_REDUCTION_OF_F_<=_FACTR*EPSMCH             \n",
      "ARIMA Parameters: (0, 1, 1) x: (0, 0, 1, 12). AIC: 1737.786620758431\n",
      "RUNNING THE L-BFGS-B CODE\n",
      "\n",
      "           * * *\n",
      "\n",
      "Machine precision = 2.220D-16\n",
      " N =            2     M =           10\n",
      "\n",
      "At X0         0 variables are exactly at the bounds\n",
      "\n",
      "At iterate    0    f=  7.89607D+00    |proj g|=  4.06764D-02\n"
     ]
    },
    {
     "name": "stderr",
     "output_type": "stream",
     "text": [
      " This problem is unconstrained.\n"
     ]
    },
    {
     "name": "stdout",
     "output_type": "stream",
     "text": [
      "\n",
      "           * * *\n",
      "\n",
      "Tit   = total number of iterations\n",
      "Tnf   = total number of function evaluations\n",
      "Tnint = total number of segments explored during Cauchy searches\n",
      "Skip  = number of BFGS updates skipped\n",
      "Nact  = number of active bounds at final generalized Cauchy point\n",
      "Projg = norm of the final projected gradient\n",
      "F     = final function value\n",
      "\n",
      "           * * *\n",
      "\n",
      "   N    Tit     Tnf  Tnint  Skip  Nact     Projg        F\n",
      "    2      2      5      1     0     0   6.249D-05   7.895D+00\n",
      "  F =   7.8954263091087595     \n",
      "\n",
      "CONVERGENCE: REL_REDUCTION_OF_F_<=_FACTR*EPSMCH             \n",
      "ARIMA Parameters: (0, 1, 1) x: (0, 1, 0, 12). AIC: 1772.5754932403622\n",
      "RUNNING THE L-BFGS-B CODE\n",
      "\n",
      "           * * *\n",
      "\n",
      "Machine precision = 2.220D-16\n",
      " N =            3     M =           10\n",
      "\n",
      "At X0         0 variables are exactly at the bounds\n",
      "\n",
      "At iterate    0    f=  6.93805D+00    |proj g|=  1.36070D-01\n"
     ]
    },
    {
     "name": "stderr",
     "output_type": "stream",
     "text": [
      " This problem is unconstrained.\n"
     ]
    },
    {
     "name": "stdout",
     "output_type": "stream",
     "text": [
      "\n",
      "At iterate    5    f=  6.88508D+00    |proj g|=  9.09187D-05\n",
      "\n",
      "At iterate   10    f=  6.88507D+00    |proj g|=  3.54331D-03\n",
      "\n",
      "At iterate   15    f=  6.88388D+00    |proj g|=  4.21081D-02\n",
      "\n",
      "At iterate   20    f=  6.85894D+00    |proj g|=  3.30269D-02\n",
      "\n",
      "At iterate   25    f=  6.85700D+00    |proj g|=  9.23951D-04\n",
      "\n",
      "           * * *\n",
      "\n",
      "Tit   = total number of iterations\n",
      "Tnf   = total number of function evaluations\n",
      "Tnint = total number of segments explored during Cauchy searches\n",
      "Skip  = number of BFGS updates skipped\n",
      "Nact  = number of active bounds at final generalized Cauchy point\n",
      "Projg = norm of the final projected gradient\n",
      "F     = final function value\n",
      "\n",
      "           * * *\n",
      "\n",
      "   N    Tit     Tnf  Tnint  Skip  Nact     Projg        F\n",
      "    3     27     33      1     0     0   7.859D-07   6.857D+00\n",
      "  F =   6.8569950113076823     \n",
      "\n",
      "CONVERGENCE: NORM_OF_PROJECTED_GRADIENT_<=_PGTOL            \n",
      "ARIMA Parameters: (0, 1, 1) x: (0, 1, 1, 12). AIC: 1541.9668825329209\n",
      "RUNNING THE L-BFGS-B CODE\n",
      "\n",
      "           * * *\n",
      "\n",
      "Machine precision = 2.220D-16\n",
      " N =            3     M =           10\n",
      "\n",
      "At X0         0 variables are exactly at the bounds\n",
      "\n",
      "At iterate    0    f=  7.88840D+00    |proj g|=  1.16083D-01\n"
     ]
    },
    {
     "name": "stderr",
     "output_type": "stream",
     "text": [
      " This problem is unconstrained.\n"
     ]
    },
    {
     "name": "stdout",
     "output_type": "stream",
     "text": [
      "\n",
      "At iterate    5    f=  7.88400D+00    |proj g|=  5.20950D-05\n",
      "\n",
      "At iterate   10    f=  7.88391D+00    |proj g|=  6.41658D-03\n",
      "\n",
      "At iterate   15    f=  7.88181D+00    |proj g|=  2.06438D-02\n",
      "\n",
      "           * * *\n",
      "\n",
      "Tit   = total number of iterations\n",
      "Tnf   = total number of function evaluations\n",
      "Tnint = total number of segments explored during Cauchy searches\n",
      "Skip  = number of BFGS updates skipped\n",
      "Nact  = number of active bounds at final generalized Cauchy point\n",
      "Projg = norm of the final projected gradient\n",
      "F     = final function value\n",
      "\n",
      "           * * *\n",
      "\n",
      "   N    Tit     Tnf  Tnint  Skip  Nact     Projg        F\n",
      "    3     19     25      1     0     0   1.421D-06   7.881D+00\n",
      "  F =   7.8809634265951827     \n",
      "\n",
      "CONVERGENCE: NORM_OF_PROJECTED_GRADIENT_<=_PGTOL            \n",
      "ARIMA Parameters: (0, 1, 1) x: (1, 0, 0, 12). AIC: 1771.335807557321\n",
      "RUNNING THE L-BFGS-B CODE\n",
      "\n",
      "           * * *\n",
      "\n",
      "Machine precision = 2.220D-16\n",
      " N =            4     M =           10\n",
      "\n",
      "At X0         0 variables are exactly at the bounds\n",
      "\n",
      "At iterate    0    f=  7.73587D+00    |proj g|=  1.12210D-01\n"
     ]
    },
    {
     "name": "stderr",
     "output_type": "stream",
     "text": [
      " This problem is unconstrained.\n"
     ]
    },
    {
     "name": "stdout",
     "output_type": "stream",
     "text": [
      "\n",
      "At iterate    5    f=  7.73117D+00    |proj g|=  2.18560D-02\n",
      "\n",
      "At iterate   10    f=  7.72628D+00    |proj g|=  1.03941D-02\n",
      "\n",
      "           * * *\n",
      "\n",
      "Tit   = total number of iterations\n",
      "Tnf   = total number of function evaluations\n",
      "Tnint = total number of segments explored during Cauchy searches\n",
      "Skip  = number of BFGS updates skipped\n",
      "Nact  = number of active bounds at final generalized Cauchy point\n",
      "Projg = norm of the final projected gradient\n",
      "F     = final function value\n",
      "\n",
      "           * * *\n",
      "\n",
      "   N    Tit     Tnf  Tnint  Skip  Nact     Projg        F\n",
      "    4     14     18      1     0     0   5.508D-05   7.726D+00\n",
      "  F =   7.7259822561630500     \n",
      "\n",
      "CONVERGENCE: REL_REDUCTION_OF_F_<=_FACTR*EPSMCH             \n",
      "ARIMA Parameters: (0, 1, 1) x: (1, 0, 1, 12). AIC: 1738.6200253805232\n",
      "RUNNING THE L-BFGS-B CODE\n",
      "\n",
      "           * * *\n",
      "\n",
      "Machine precision = 2.220D-16\n",
      " N =            3     M =           10\n",
      "\n",
      "At X0         0 variables are exactly at the bounds\n",
      "\n",
      "At iterate    0    f=  7.07305D+00    |proj g|=  4.50139D-03\n"
     ]
    },
    {
     "name": "stderr",
     "output_type": "stream",
     "text": [
      " This problem is unconstrained.\n"
     ]
    },
    {
     "name": "stdout",
     "output_type": "stream",
     "text": [
      "\n",
      "At iterate    5    f=  7.07302D+00    |proj g|=  6.30832D-05\n",
      "\n",
      "At iterate   10    f=  7.07301D+00    |proj g|=  4.36548D-03\n",
      "\n",
      "At iterate   15    f=  7.07180D+00    |proj g|=  4.63100D-02\n",
      "\n",
      "At iterate   20    f=  7.06451D+00    |proj g|=  1.52248D-03\n",
      "\n",
      "           * * *\n",
      "\n",
      "Tit   = total number of iterations\n",
      "Tnf   = total number of function evaluations\n",
      "Tnint = total number of segments explored during Cauchy searches\n",
      "Skip  = number of BFGS updates skipped\n",
      "Nact  = number of active bounds at final generalized Cauchy point\n",
      "Projg = norm of the final projected gradient\n",
      "F     = final function value\n",
      "\n",
      "           * * *\n",
      "\n",
      "   N    Tit     Tnf  Tnint  Skip  Nact     Projg        F\n",
      "    3     22     25      1     0     0   6.003D-06   7.065D+00\n",
      "  F =   7.0645055566204862     \n",
      "\n",
      "CONVERGENCE: NORM_OF_PROJECTED_GRADIENT_<=_PGTOL            \n",
      "ARIMA Parameters: (0, 1, 1) x: (1, 1, 0, 12). AIC: 1588.4492446829888\n",
      "RUNNING THE L-BFGS-B CODE\n",
      "\n",
      "           * * *\n",
      "\n",
      "Machine precision = 2.220D-16\n",
      " N =            4     M =           10\n",
      "\n",
      "At X0         0 variables are exactly at the bounds\n",
      "\n",
      "At iterate    0    f=  6.93347D+00    |proj g|=  3.82077D-02\n"
     ]
    },
    {
     "name": "stderr",
     "output_type": "stream",
     "text": [
      " This problem is unconstrained.\n"
     ]
    },
    {
     "name": "stdout",
     "output_type": "stream",
     "text": [
      "\n",
      "At iterate    5    f=  6.88440D+00    |proj g|=  5.62607D-03\n",
      "\n",
      "At iterate   10    f=  6.88437D+00    |proj g|=  2.83564D-04\n",
      "\n",
      "At iterate   15    f=  6.88422D+00    |proj g|=  7.10959D-03\n",
      "\n",
      "At iterate   20    f=  6.87244D+00    |proj g|=  7.42608D-02\n",
      "\n",
      "At iterate   25    f=  6.85729D+00    |proj g|=  1.78584D-02\n",
      "\n",
      "At iterate   30    f=  6.85642D+00    |proj g|=  3.60352D-06\n",
      "\n",
      "           * * *\n",
      "\n",
      "Tit   = total number of iterations\n",
      "Tnf   = total number of function evaluations\n",
      "Tnint = total number of segments explored during Cauchy searches\n",
      "Skip  = number of BFGS updates skipped\n",
      "Nact  = number of active bounds at final generalized Cauchy point\n",
      "Projg = norm of the final projected gradient\n",
      "F     = final function value\n",
      "\n",
      "           * * *\n",
      "\n",
      "   N    Tit     Tnf  Tnint  Skip  Nact     Projg        F\n",
      "    4     30     43      1     0     0   3.604D-06   6.856D+00\n",
      "  F =   6.8564240553776816     \n",
      "\n",
      "CONVERGENCE: NORM_OF_PROJECTED_GRADIENT_<=_PGTOL            \n",
      "ARIMA Parameters: (0, 1, 1) x: (1, 1, 1, 12). AIC: 1543.8389884046007\n",
      "RUNNING THE L-BFGS-B CODE\n",
      "\n",
      "           * * *\n",
      "\n",
      "Machine precision = 2.220D-16\n",
      " N =            2     M =           10\n",
      "\n",
      "At X0         0 variables are exactly at the bounds\n",
      "\n",
      "At iterate    0    f=  8.78009D+00    |proj g|=  1.04889D-04\n",
      "\n",
      "           * * *\n",
      "\n",
      "Tit   = total number of iterations\n",
      "Tnf   = total number of function evaluations\n",
      "Tnint = total number of segments explored during Cauchy searches\n",
      "Skip  = number of BFGS updates skipped\n",
      "Nact  = number of active bounds at final generalized Cauchy point\n",
      "Projg = norm of the final projected gradient\n",
      "F     = final function value\n",
      "\n",
      "           * * *\n",
      "\n",
      "   N    Tit     Tnf  Tnint  Skip  Nact     Projg        F\n",
      "    2      1     13      1     0     0   1.047D-04   8.780D+00\n",
      "  F =   8.7800864117847226     \n",
      "\n",
      "CONVERGENCE: REL_REDUCTION_OF_F_<=_FACTR*EPSMCH             \n"
     ]
    },
    {
     "name": "stderr",
     "output_type": "stream",
     "text": [
      " This problem is unconstrained.\n",
      "\n",
      " Warning:  more than 10 function and gradient\n",
      "   evaluations in the last line search.  Termination\n",
      "   may possibly be caused by a bad search direction.\n"
     ]
    },
    {
     "name": "stdout",
     "output_type": "stream",
     "text": [
      "ARIMA Parameters: (1, 0, 0) x: (0, 0, 0, 12). AIC: 1970.7393562397779\n",
      "RUNNING THE L-BFGS-B CODE\n",
      "\n",
      "           * * *\n",
      "\n",
      "Machine precision = 2.220D-16\n",
      " N =            3     M =           10\n",
      "\n",
      "At X0         0 variables are exactly at the bounds\n",
      "\n",
      "At iterate    0    f=  8.06386D+00    |proj g|=  4.94836D-01\n"
     ]
    },
    {
     "name": "stderr",
     "output_type": "stream",
     "text": [
      " This problem is unconstrained.\n"
     ]
    },
    {
     "name": "stdout",
     "output_type": "stream",
     "text": [
      "\n",
      "At iterate    5    f=  7.92899D+00    |proj g|=  4.37950D-01\n",
      "\n",
      "At iterate   10    f=  7.92525D+00    |proj g|=  1.10697D-04\n",
      "\n",
      "           * * *\n",
      "\n",
      "Tit   = total number of iterations\n",
      "Tnf   = total number of function evaluations\n",
      "Tnint = total number of segments explored during Cauchy searches\n",
      "Skip  = number of BFGS updates skipped\n",
      "Nact  = number of active bounds at final generalized Cauchy point\n",
      "Projg = norm of the final projected gradient\n",
      "F     = final function value\n",
      "\n",
      "           * * *\n",
      "\n",
      "   N    Tit     Tnf  Tnint  Skip  Nact     Projg        F\n",
      "    3     10     12      1     0     0   1.107D-04   7.925D+00\n",
      "  F =   7.9252525885938123     \n",
      "\n",
      "CONVERGENCE: REL_REDUCTION_OF_F_<=_FACTR*EPSMCH             \n",
      "ARIMA Parameters: (1, 0, 0) x: (0, 0, 1, 12). AIC: 1781.256579845014\n",
      "RUNNING THE L-BFGS-B CODE\n",
      "\n",
      "           * * *\n",
      "\n",
      "Machine precision = 2.220D-16\n",
      " N =            2     M =           10\n",
      "\n",
      "At X0         0 variables are exactly at the bounds\n",
      "\n",
      "At iterate    0    f=  8.07269D+00    |proj g|=  3.08590D-05\n"
     ]
    },
    {
     "name": "stderr",
     "output_type": "stream",
     "text": [
      " This problem is unconstrained.\n"
     ]
    },
    {
     "name": "stdout",
     "output_type": "stream",
     "text": [
      "\n",
      "           * * *\n",
      "\n",
      "Tit   = total number of iterations\n",
      "Tnf   = total number of function evaluations\n",
      "Tnint = total number of segments explored during Cauchy searches\n",
      "Skip  = number of BFGS updates skipped\n",
      "Nact  = number of active bounds at final generalized Cauchy point\n",
      "Projg = norm of the final projected gradient\n",
      "F     = final function value\n",
      "\n",
      "           * * *\n",
      "\n",
      "   N    Tit     Tnf  Tnint  Skip  Nact     Projg        F\n",
      "    2      1     11      1     0     0   3.070D-05   8.073D+00\n",
      "  F =   8.0726931343234778     \n",
      "\n",
      "CONVERGENCE: REL_REDUCTION_OF_F_<=_FACTR*EPSMCH             \n",
      "ARIMA Parameters: (1, 0, 0) x: (0, 1, 0, 12). AIC: 1812.2832620884592\n"
     ]
    },
    {
     "name": "stderr",
     "output_type": "stream",
     "text": [
      " This problem is unconstrained.\n"
     ]
    },
    {
     "name": "stdout",
     "output_type": "stream",
     "text": [
      "RUNNING THE L-BFGS-B CODE\n",
      "\n",
      "           * * *\n",
      "\n",
      "Machine precision = 2.220D-16\n",
      " N =            3     M =           10\n",
      "\n",
      "At X0         0 variables are exactly at the bounds\n",
      "\n",
      "At iterate    0    f=  8.26025D+00    |proj g|=  1.99929D+00\n",
      "\n",
      "At iterate    5    f=  7.04644D+00    |proj g|=  1.28809D-01\n",
      "\n",
      "At iterate   10    f=  7.02694D+00    |proj g|=  1.18054D-04\n",
      "\n",
      "           * * *\n",
      "\n",
      "Tit   = total number of iterations\n",
      "Tnf   = total number of function evaluations\n",
      "Tnint = total number of segments explored during Cauchy searches\n",
      "Skip  = number of BFGS updates skipped\n",
      "Nact  = number of active bounds at final generalized Cauchy point\n",
      "Projg = norm of the final projected gradient\n",
      "F     = final function value\n",
      "\n",
      "           * * *\n",
      "\n",
      "   N    Tit     Tnf  Tnint  Skip  Nact     Projg        F\n",
      "    3     12     14      1     0     0   7.247D-05   7.027D+00\n",
      "  F =   7.0269385355811211     \n",
      "\n",
      "CONVERGENCE: REL_REDUCTION_OF_F_<=_FACTR*EPSMCH             \n",
      "ARIMA Parameters: (1, 0, 0) x: (0, 1, 1, 12). AIC: 1580.034231970171\n",
      "RUNNING THE L-BFGS-B CODE\n",
      "\n",
      "           * * *\n",
      "\n",
      "Machine precision = 2.220D-16\n",
      " N =            3     M =           10\n",
      "\n",
      "At X0         0 variables are exactly at the bounds\n",
      "\n",
      "At iterate    0    f=  8.51700D+00    |proj g|=  8.52669D-01\n"
     ]
    },
    {
     "name": "stderr",
     "output_type": "stream",
     "text": [
      " This problem is unconstrained.\n"
     ]
    },
    {
     "name": "stdout",
     "output_type": "stream",
     "text": [
      "\n",
      "At iterate    5    f=  7.88444D+00    |proj g|=  7.78375D-03\n",
      "\n",
      "           * * *\n",
      "\n",
      "Tit   = total number of iterations\n",
      "Tnf   = total number of function evaluations\n",
      "Tnint = total number of segments explored during Cauchy searches\n",
      "Skip  = number of BFGS updates skipped\n",
      "Nact  = number of active bounds at final generalized Cauchy point\n",
      "Projg = norm of the final projected gradient\n",
      "F     = final function value\n",
      "\n",
      "           * * *\n",
      "\n",
      "   N    Tit     Tnf  Tnint  Skip  Nact     Projg        F\n",
      "    3      7      9      1     0     0   6.286D-05   7.884D+00\n",
      "  F =   7.8844235811420109     \n",
      "\n",
      "CONVERGENCE: REL_REDUCTION_OF_F_<=_FACTR*EPSMCH             \n",
      "ARIMA Parameters: (1, 0, 0) x: (1, 0, 0, 12). AIC: 1772.1108821758105\n",
      "RUNNING THE L-BFGS-B CODE\n",
      "\n",
      "           * * *\n",
      "\n",
      "Machine precision = 2.220D-16\n",
      " N =            4     M =           10\n",
      "\n",
      "At X0         0 variables are exactly at the bounds\n",
      "\n",
      "At iterate    0    f=  8.31067D+00    |proj g|=  7.37873D-01\n"
     ]
    },
    {
     "name": "stderr",
     "output_type": "stream",
     "text": [
      " This problem is unconstrained.\n"
     ]
    },
    {
     "name": "stdout",
     "output_type": "stream",
     "text": [
      "\n",
      "At iterate    5    f=  7.88551D+00    |proj g|=  1.29668D-02\n",
      "\n",
      "At iterate   10    f=  7.88533D+00    |proj g|=  1.06590D-02\n",
      "\n",
      "At iterate   15    f=  7.88517D+00    |proj g|=  1.78839D-03\n",
      "\n",
      "At iterate   20    f=  7.88509D+00    |proj g|=  7.33268D-03\n",
      "\n",
      "At iterate   25    f=  7.88255D+00    |proj g|=  1.47763D-01\n",
      "\n",
      "At iterate   30    f=  7.87396D+00    |proj g|=  4.58604D-02\n",
      "\n",
      "At iterate   35    f=  7.85812D+00    |proj g|=  5.16028D-03\n",
      "\n",
      "           * * *\n",
      "\n",
      "Tit   = total number of iterations\n",
      "Tnf   = total number of function evaluations\n",
      "Tnint = total number of segments explored during Cauchy searches\n",
      "Skip  = number of BFGS updates skipped\n",
      "Nact  = number of active bounds at final generalized Cauchy point\n",
      "Projg = norm of the final projected gradient\n",
      "F     = final function value\n",
      "\n",
      "           * * *\n",
      "\n",
      "   N    Tit     Tnf  Tnint  Skip  Nact     Projg        F\n",
      "    4     39     53      1     0     0   4.153D-05   7.858D+00\n",
      "  F =   7.8580983794240327     \n",
      "\n",
      "CONVERGENCE: REL_REDUCTION_OF_F_<=_FACTR*EPSMCH             \n",
      "ARIMA Parameters: (1, 0, 0) x: (1, 0, 1, 12). AIC: 1768.2140369909832\n",
      "RUNNING THE L-BFGS-B CODE\n",
      "\n",
      "           * * *\n",
      "\n",
      "Machine precision = 2.220D-16\n",
      " N =            3     M =           10\n",
      "\n",
      "At X0         0 variables are exactly at the bounds\n",
      "\n",
      "At iterate    0    f=  7.19599D+00    |proj g|=  3.99191D-01\n"
     ]
    },
    {
     "name": "stderr",
     "output_type": "stream",
     "text": [
      " This problem is unconstrained.\n"
     ]
    },
    {
     "name": "stdout",
     "output_type": "stream",
     "text": [
      "\n",
      "At iterate    5    f=  7.06570D+00    |proj g|=  3.70788D-04\n",
      "\n",
      "           * * *\n",
      "\n",
      "Tit   = total number of iterations\n",
      "Tnf   = total number of function evaluations\n",
      "Tnint = total number of segments explored during Cauchy searches\n",
      "Skip  = number of BFGS updates skipped\n",
      "Nact  = number of active bounds at final generalized Cauchy point\n",
      "Projg = norm of the final projected gradient\n",
      "F     = final function value\n",
      "\n",
      "           * * *\n",
      "\n",
      "   N    Tit     Tnf  Tnint  Skip  Nact     Projg        F\n",
      "    3      6      8      1     0     0   5.278D-05   7.066D+00\n",
      "  F =   7.0657012884387882     \n",
      "\n",
      "CONVERGENCE: REL_REDUCTION_OF_F_<=_FACTR*EPSMCH             \n",
      "ARIMA Parameters: (1, 0, 0) x: (1, 1, 0, 12). AIC: 1588.7170886102886\n",
      "RUNNING THE L-BFGS-B CODE\n",
      "\n",
      "           * * *\n",
      "\n",
      "Machine precision = 2.220D-16\n",
      " N =            4     M =           10\n",
      "\n",
      "At X0         0 variables are exactly at the bounds\n",
      "\n",
      "At iterate    0    f=  8.57613D+00    |proj g|=  2.56792D+00\n"
     ]
    },
    {
     "name": "stderr",
     "output_type": "stream",
     "text": [
      " This problem is unconstrained.\n"
     ]
    },
    {
     "name": "stdout",
     "output_type": "stream",
     "text": [
      "\n",
      "At iterate    5    f=  7.07614D+00    |proj g|=  1.18293D-01\n",
      "\n",
      "At iterate   10    f=  7.04076D+00    |proj g|=  1.23840D-01\n",
      "\n",
      "At iterate   15    f=  7.02691D+00    |proj g|=  1.02875D-02\n",
      "\n",
      "           * * *\n",
      "\n",
      "Tit   = total number of iterations\n",
      "Tnf   = total number of function evaluations\n",
      "Tnint = total number of segments explored during Cauchy searches\n",
      "Skip  = number of BFGS updates skipped\n",
      "Nact  = number of active bounds at final generalized Cauchy point\n",
      "Projg = norm of the final projected gradient\n",
      "F     = final function value\n",
      "\n",
      "           * * *\n",
      "\n",
      "   N    Tit     Tnf  Tnint  Skip  Nact     Projg        F\n",
      "    4     17     22      1     0     0   7.283D-05   7.027D+00\n",
      "  F =   7.0269042732650959     \n",
      "\n",
      "CONVERGENCE: REL_REDUCTION_OF_F_<=_FACTR*EPSMCH             \n",
      "ARIMA Parameters: (1, 0, 0) x: (1, 1, 1, 12). AIC: 1582.0265572113815\n",
      "RUNNING THE L-BFGS-B CODE\n",
      "\n",
      "           * * *\n",
      "\n",
      "Machine precision = 2.220D-16\n",
      " N =            3     M =           10\n",
      "\n",
      "At X0         0 variables are exactly at the bounds\n",
      "\n",
      "At iterate    0    f=  8.57640D+00    |proj g|=  9.13664D-02\n",
      "\n",
      "At iterate    5    f=  8.57604D+00    |proj g|=  4.12321D-05\n"
     ]
    },
    {
     "name": "stderr",
     "output_type": "stream",
     "text": [
      " This problem is unconstrained.\n"
     ]
    },
    {
     "name": "stdout",
     "output_type": "stream",
     "text": [
      "\n",
      "           * * *\n",
      "\n",
      "Tit   = total number of iterations\n",
      "Tnf   = total number of function evaluations\n",
      "Tnint = total number of segments explored during Cauchy searches\n",
      "Skip  = number of BFGS updates skipped\n",
      "Nact  = number of active bounds at final generalized Cauchy point\n",
      "Projg = norm of the final projected gradient\n",
      "F     = final function value\n",
      "\n",
      "           * * *\n",
      "\n",
      "   N    Tit     Tnf  Tnint  Skip  Nact     Projg        F\n",
      "    3      6      8      1     0     0   3.916D-05   8.576D+00\n",
      "  F =   8.5760352675955591     \n",
      "\n",
      "CONVERGENCE: REL_REDUCTION_OF_F_<=_FACTR*EPSMCH             \n",
      "ARIMA Parameters: (1, 0, 1) x: (0, 0, 0, 12). AIC: 1927.031899941405\n"
     ]
    },
    {
     "name": "stderr",
     "output_type": "stream",
     "text": [
      " This problem is unconstrained.\n"
     ]
    },
    {
     "name": "stdout",
     "output_type": "stream",
     "text": [
      "RUNNING THE L-BFGS-B CODE\n",
      "\n",
      "           * * *\n",
      "\n",
      "Machine precision = 2.220D-16\n",
      " N =            4     M =           10\n",
      "\n",
      "At X0         0 variables are exactly at the bounds\n",
      "\n",
      "At iterate    0    f=  7.88630D+00    |proj g|=  2.87150D-01\n",
      "\n",
      "At iterate    5    f=  7.74052D+00    |proj g|=  6.97651D-02\n",
      "\n",
      "At iterate   10    f=  7.74032D+00    |proj g|=  1.38361D-04\n",
      "\n",
      "           * * *\n",
      "\n",
      "Tit   = total number of iterations\n",
      "Tnf   = total number of function evaluations\n",
      "Tnint = total number of segments explored during Cauchy searches\n",
      "Skip  = number of BFGS updates skipped\n",
      "Nact  = number of active bounds at final generalized Cauchy point\n",
      "Projg = norm of the final projected gradient\n",
      "F     = final function value\n",
      "\n",
      "           * * *\n",
      "\n",
      "   N    Tit     Tnf  Tnint  Skip  Nact     Projg        F\n",
      "    4     10     15      1     0     0   1.384D-04   7.740D+00\n",
      "  F =   7.7403248015086534     \n",
      "\n",
      "CONVERGENCE: REL_REDUCTION_OF_F_<=_FACTR*EPSMCH             \n",
      "ARIMA Parameters: (1, 0, 1) x: (0, 0, 1, 12). AIC: 1741.8327555379383\n",
      "RUNNING THE L-BFGS-B CODE\n",
      "\n",
      "           * * *\n",
      "\n",
      "Machine precision = 2.220D-16\n",
      " N =            3     M =           10\n",
      "\n",
      "At X0         0 variables are exactly at the bounds\n",
      "\n",
      "At iterate    0    f=  7.89633D+00    |proj g|=  2.90062D-02\n"
     ]
    },
    {
     "name": "stderr",
     "output_type": "stream",
     "text": [
      " This problem is unconstrained.\n"
     ]
    },
    {
     "name": "stdout",
     "output_type": "stream",
     "text": [
      "\n",
      "           * * *\n",
      "\n",
      "Tit   = total number of iterations\n",
      "Tnf   = total number of function evaluations\n",
      "Tnint = total number of segments explored during Cauchy searches\n",
      "Skip  = number of BFGS updates skipped\n",
      "Nact  = number of active bounds at final generalized Cauchy point\n",
      "Projg = norm of the final projected gradient\n",
      "F     = final function value\n",
      "\n",
      "           * * *\n",
      "\n",
      "   N    Tit     Tnf  Tnint  Skip  Nact     Projg        F\n",
      "    3      3      7      1     0     0   3.144D-05   7.896D+00\n",
      "  F =   7.8959431916378540     \n",
      "\n",
      "CONVERGENCE: REL_REDUCTION_OF_F_<=_FACTR*EPSMCH             \n",
      "ARIMA Parameters: (1, 0, 1) x: (0, 1, 0, 12). AIC: 1774.6912749268793\n",
      "RUNNING THE L-BFGS-B CODE\n",
      "\n",
      "           * * *\n",
      "\n",
      "Machine precision = 2.220D-16\n",
      " N =            4     M =           10\n",
      "\n",
      "At X0         0 variables are exactly at the bounds\n",
      "\n",
      "At iterate    0    f=  7.95373D+00    |proj g|=  1.59779D+00\n"
     ]
    },
    {
     "name": "stderr",
     "output_type": "stream",
     "text": [
      " This problem is unconstrained.\n"
     ]
    },
    {
     "name": "stdout",
     "output_type": "stream",
     "text": [
      "\n",
      "At iterate    5    f=  6.91542D+00    |proj g|=  1.95971D-01\n",
      "\n",
      "At iterate   10    f=  6.86763D+00    |proj g|=  5.20737D-03\n",
      "\n",
      "           * * *\n",
      "\n",
      "Tit   = total number of iterations\n",
      "Tnf   = total number of function evaluations\n",
      "Tnint = total number of segments explored during Cauchy searches\n",
      "Skip  = number of BFGS updates skipped\n",
      "Nact  = number of active bounds at final generalized Cauchy point\n",
      "Projg = norm of the final projected gradient\n",
      "F     = final function value\n",
      "\n",
      "           * * *\n",
      "\n",
      "   N    Tit     Tnf  Tnint  Skip  Nact     Projg        F\n",
      "    4     14     16      1     0     0   1.035D-04   6.868D+00\n",
      "  F =   6.8676075030868677     \n",
      "\n",
      "CONVERGENCE: REL_REDUCTION_OF_F_<=_FACTR*EPSMCH             \n",
      "ARIMA Parameters: (1, 0, 1) x: (0, 1, 1, 12). AIC: 1546.3440806914584\n",
      "RUNNING THE L-BFGS-B CODE\n",
      "\n",
      "           * * *\n",
      "\n",
      "Machine precision = 2.220D-16\n",
      " N =            4     M =           10\n",
      "\n",
      "At X0         0 variables are exactly at the bounds\n",
      "\n",
      "At iterate    0    f=  8.39357D+00    |proj g|=  8.28318D-01\n"
     ]
    },
    {
     "name": "stderr",
     "output_type": "stream",
     "text": [
      " This problem is unconstrained.\n"
     ]
    },
    {
     "name": "stdout",
     "output_type": "stream",
     "text": [
      "\n",
      "At iterate    5    f=  7.78955D+00    |proj g|=  2.03394D-01\n",
      "\n",
      "At iterate   10    f=  7.76455D+00    |proj g|=  1.62656D-04\n",
      "\n",
      "           * * *\n",
      "\n",
      "Tit   = total number of iterations\n",
      "Tnf   = total number of function evaluations\n",
      "Tnint = total number of segments explored during Cauchy searches\n",
      "Skip  = number of BFGS updates skipped\n",
      "Nact  = number of active bounds at final generalized Cauchy point\n",
      "Projg = norm of the final projected gradient\n",
      "F     = final function value\n",
      "\n",
      "           * * *\n",
      "\n",
      "   N    Tit     Tnf  Tnint  Skip  Nact     Projg        F\n",
      "    4     11     12      1     0     0   2.429D-05   7.765D+00\n",
      "  F =   7.7645509951448402     \n",
      "\n",
      "CONVERGENCE: REL_REDUCTION_OF_F_<=_FACTR*EPSMCH             \n",
      "ARIMA Parameters: (1, 0, 1) x: (1, 0, 0, 12). AIC: 1747.2594229124443\n",
      "RUNNING THE L-BFGS-B CODE\n",
      "\n",
      "           * * *\n",
      "\n",
      "Machine precision = 2.220D-16\n",
      " N =            5     M =           10\n",
      "\n",
      "At X0         0 variables are exactly at the bounds\n",
      "\n",
      "At iterate    0    f=  8.11063D+00    |proj g|=  6.87454D-01\n"
     ]
    },
    {
     "name": "stderr",
     "output_type": "stream",
     "text": [
      " This problem is unconstrained.\n"
     ]
    },
    {
     "name": "stdout",
     "output_type": "stream",
     "text": [
      "\n",
      "At iterate    5    f=  7.68478D+00    |proj g|=  3.05572D-01\n",
      "\n",
      "At iterate   10    f=  7.68182D+00    |proj g|=  1.44579D-02\n",
      "\n",
      "At iterate   15    f=  7.68143D+00    |proj g|=  3.52343D-02\n",
      "\n",
      "At iterate   20    f=  7.68136D+00    |proj g|=  5.21709D-05\n",
      "\n",
      "           * * *\n",
      "\n",
      "Tit   = total number of iterations\n",
      "Tnf   = total number of function evaluations\n",
      "Tnint = total number of segments explored during Cauchy searches\n",
      "Skip  = number of BFGS updates skipped\n",
      "Nact  = number of active bounds at final generalized Cauchy point\n",
      "Projg = norm of the final projected gradient\n",
      "F     = final function value\n",
      "\n",
      "           * * *\n",
      "\n",
      "   N    Tit     Tnf  Tnint  Skip  Nact     Projg        F\n",
      "    5     21     30      1     0     0   5.217D-05   7.681D+00\n",
      "  F =   7.6813618792061380     \n",
      "\n",
      "CONVERGENCE: REL_REDUCTION_OF_F_<=_FACTR*EPSMCH             \n",
      "ARIMA Parameters: (1, 0, 1) x: (1, 0, 1, 12). AIC: 1730.625060942175\n",
      "RUNNING THE L-BFGS-B CODE\n",
      "\n",
      "           * * *\n",
      "\n",
      "Machine precision = 2.220D-16\n",
      " N =            4     M =           10\n",
      "\n",
      "At X0         0 variables are exactly at the bounds\n",
      "\n",
      "At iterate    0    f=  7.09901D+00    |proj g|=  3.63682D-01\n"
     ]
    },
    {
     "name": "stderr",
     "output_type": "stream",
     "text": [
      " This problem is unconstrained.\n"
     ]
    },
    {
     "name": "stdout",
     "output_type": "stream",
     "text": [
      "\n",
      "At iterate    5    f=  6.98693D+00    |proj g|=  4.47817D-04\n",
      "\n",
      "           * * *\n",
      "\n",
      "Tit   = total number of iterations\n",
      "Tnf   = total number of function evaluations\n",
      "Tnint = total number of segments explored during Cauchy searches\n",
      "Skip  = number of BFGS updates skipped\n",
      "Nact  = number of active bounds at final generalized Cauchy point\n",
      "Projg = norm of the final projected gradient\n",
      "F     = final function value\n",
      "\n",
      "           * * *\n",
      "\n",
      "   N    Tit     Tnf  Tnint  Skip  Nact     Projg        F\n",
      "    4      7      9      1     0     0   4.973D-05   6.987D+00\n",
      "  F =   6.9869256919296019     \n",
      "\n",
      "CONVERGENCE: REL_REDUCTION_OF_F_<=_FACTR*EPSMCH             \n",
      "ARIMA Parameters: (1, 0, 1) x: (1, 1, 0, 12). AIC: 1573.071354992231\n",
      "RUNNING THE L-BFGS-B CODE\n",
      "\n",
      "           * * *\n",
      "\n",
      "Machine precision = 2.220D-16\n",
      " N =            5     M =           10\n",
      "\n",
      "At X0         0 variables are exactly at the bounds\n",
      "\n",
      "At iterate    0    f=  8.23594D+00    |proj g|=  2.07471D+00\n"
     ]
    },
    {
     "name": "stderr",
     "output_type": "stream",
     "text": [
      " This problem is unconstrained.\n"
     ]
    },
    {
     "name": "stdout",
     "output_type": "stream",
     "text": [
      "\n",
      "At iterate    5    f=  6.92138D+00    |proj g|=  6.24276D-02\n",
      "\n",
      "At iterate   10    f=  6.88670D+00    |proj g|=  1.29921D-01\n",
      "\n",
      "At iterate   15    f=  6.86776D+00    |proj g|=  2.95303D-02\n",
      "\n",
      "           * * *\n",
      "\n",
      "Tit   = total number of iterations\n",
      "Tnf   = total number of function evaluations\n",
      "Tnint = total number of segments explored during Cauchy searches\n",
      "Skip  = number of BFGS updates skipped\n",
      "Nact  = number of active bounds at final generalized Cauchy point\n",
      "Projg = norm of the final projected gradient\n",
      "F     = final function value\n",
      "\n",
      "           * * *\n",
      "\n",
      "   N    Tit     Tnf  Tnint  Skip  Nact     Projg        F\n",
      "    5     19     23      1     0     0   1.037D-04   6.868D+00\n",
      "  F =   6.8675666124294992     \n",
      "\n",
      "CONVERGENCE: REL_REDUCTION_OF_F_<=_FACTR*EPSMCH             \n",
      "ARIMA Parameters: (1, 0, 1) x: (1, 1, 1, 12). AIC: 1548.3349211842078\n",
      "RUNNING THE L-BFGS-B CODE\n",
      "\n",
      "           * * *\n",
      "\n",
      "Machine precision = 2.220D-16\n",
      " N =            2     M =           10\n",
      "\n",
      "At X0         0 variables are exactly at the bounds\n",
      "\n",
      "At iterate    0    f=  8.59448D+00    |proj g|=  8.94467D-06\n",
      "\n",
      "           * * *\n",
      "\n",
      "Tit   = total number of iterations\n",
      "Tnf   = total number of function evaluations\n",
      "Tnint = total number of segments explored during Cauchy searches\n",
      "Skip  = number of BFGS updates skipped\n",
      "Nact  = number of active bounds at final generalized Cauchy point\n",
      "Projg = norm of the final projected gradient\n",
      "F     = final function value\n",
      "\n",
      "           * * *\n",
      "\n",
      "   N    Tit     Tnf  Tnint  Skip  Nact     Projg        F\n",
      "    2      0      1      0     0     0   8.945D-06   8.594D+00\n",
      "  F =   8.5944773083269919     \n",
      "\n",
      "CONVERGENCE: NORM_OF_PROJECTED_GRADIENT_<=_PGTOL            \n",
      "ARIMA Parameters: (1, 1, 0) x: (0, 0, 0, 12). AIC: 1929.1629170652463\n"
     ]
    },
    {
     "name": "stderr",
     "output_type": "stream",
     "text": [
      " This problem is unconstrained.\n",
      " This problem is unconstrained.\n"
     ]
    },
    {
     "name": "stdout",
     "output_type": "stream",
     "text": [
      "RUNNING THE L-BFGS-B CODE\n",
      "\n",
      "           * * *\n",
      "\n",
      "Machine precision = 2.220D-16\n",
      " N =            3     M =           10\n",
      "\n",
      "At X0         0 variables are exactly at the bounds\n",
      "\n",
      "At iterate    0    f=  7.71864D+00    |proj g|=  7.58391D-02\n",
      "\n",
      "At iterate    5    f=  7.70918D+00    |proj g|=  6.83918D-05\n",
      "\n",
      "At iterate   10    f=  7.70917D+00    |proj g|=  3.69037D-03\n",
      "\n",
      "At iterate   15    f=  7.70864D+00    |proj g|=  3.89527D-02\n",
      "\n",
      "At iterate   20    f=  7.70629D+00    |proj g|=  4.22077D-04\n",
      "\n",
      "           * * *\n",
      "\n",
      "Tit   = total number of iterations\n",
      "Tnf   = total number of function evaluations\n",
      "Tnint = total number of segments explored during Cauchy searches\n",
      "Skip  = number of BFGS updates skipped\n",
      "Nact  = number of active bounds at final generalized Cauchy point\n",
      "Projg = norm of the final projected gradient\n",
      "F     = final function value\n",
      "\n",
      "           * * *\n",
      "\n",
      "   N    Tit     Tnf  Tnint  Skip  Nact     Projg        F\n",
      "    3     23     26      1     0     0   5.115D-06   7.706D+00\n",
      "  F =   7.7062868195333634     \n",
      "\n",
      "CONVERGENCE: NORM_OF_PROJECTED_GRADIENT_<=_PGTOL            \n",
      "ARIMA Parameters: (1, 1, 0) x: (0, 0, 1, 12). AIC: 1732.2082475754735\n",
      "RUNNING THE L-BFGS-B CODE\n",
      "\n",
      "           * * *\n",
      "\n",
      "Machine precision = 2.220D-16\n",
      " N =            2     M =           10\n",
      "\n",
      "At X0         0 variables are exactly at the bounds\n",
      "\n",
      "At iterate    0    f=  7.87388D+00    |proj g|=  6.44400D-06\n",
      "\n",
      "           * * *\n",
      "\n",
      "Tit   = total number of iterations\n",
      "Tnf   = total number of function evaluations\n",
      "Tnint = total number of segments explored during Cauchy searches\n",
      "Skip  = number of BFGS updates skipped\n",
      "Nact  = number of active bounds at final generalized Cauchy point\n",
      "Projg = norm of the final projected gradient\n",
      "F     = final function value\n",
      "\n",
      "           * * *\n",
      "\n",
      "   N    Tit     Tnf  Tnint  Skip  Nact     Projg        F\n",
      "    2      0      1      0     0     0   6.444D-06   7.874D+00\n",
      "  F =   7.8738830103900792     \n",
      "\n",
      "CONVERGENCE: NORM_OF_PROJECTED_GRADIENT_<=_PGTOL            \n"
     ]
    },
    {
     "name": "stderr",
     "output_type": "stream",
     "text": [
      " This problem is unconstrained.\n"
     ]
    },
    {
     "name": "stdout",
     "output_type": "stream",
     "text": [
      "ARIMA Parameters: (1, 1, 0) x: (0, 1, 0, 12). AIC: 1767.7497943273777\n",
      "RUNNING THE L-BFGS-B CODE\n",
      "\n",
      "           * * *\n",
      "\n",
      "Machine precision = 2.220D-16\n",
      " N =            3     M =           10\n",
      "\n",
      "At X0         0 variables are exactly at the bounds\n",
      "\n",
      "At iterate    0    f=  6.92620D+00    |proj g|=  1.89307D-01\n"
     ]
    },
    {
     "name": "stderr",
     "output_type": "stream",
     "text": [
      " This problem is unconstrained.\n"
     ]
    },
    {
     "name": "stdout",
     "output_type": "stream",
     "text": [
      "\n",
      "At iterate    5    f=  6.86335D+00    |proj g|=  2.60331D-04\n",
      "\n",
      "At iterate   10    f=  6.86334D+00    |proj g|=  3.07699D-03\n",
      "\n",
      "At iterate   15    f=  6.86257D+00    |proj g|=  3.88793D-02\n",
      "\n",
      "At iterate   20    f=  6.85362D+00    |proj g|=  8.75721D-03\n",
      "\n",
      "           * * *\n",
      "\n",
      "Tit   = total number of iterations\n",
      "Tnf   = total number of function evaluations\n",
      "Tnint = total number of segments explored during Cauchy searches\n",
      "Skip  = number of BFGS updates skipped\n",
      "Nact  = number of active bounds at final generalized Cauchy point\n",
      "Projg = norm of the final projected gradient\n",
      "F     = final function value\n",
      "\n",
      "           * * *\n",
      "\n",
      "   N    Tit     Tnf  Tnint  Skip  Nact     Projg        F\n",
      "    3     24     29      1     0     0   6.946D-07   6.854D+00\n",
      "  F =   6.8535437078896901     \n",
      "\n",
      "CONVERGENCE: NORM_OF_PROJECTED_GRADIENT_<=_PGTOL            \n",
      "ARIMA Parameters: (1, 1, 0) x: (0, 1, 1, 12). AIC: 1541.1937905672905\n",
      "RUNNING THE L-BFGS-B CODE\n",
      "\n",
      "           * * *\n",
      "\n",
      "Machine precision = 2.220D-16\n",
      " N =            3     M =           10\n",
      "\n",
      "At X0         0 variables are exactly at the bounds\n",
      "\n",
      "At iterate    0    f=  7.71816D+00    |proj g|=  9.55141D-02\n",
      "\n",
      "At iterate    5    f=  7.70942D+00    |proj g|=  6.87440D-05\n"
     ]
    },
    {
     "name": "stderr",
     "output_type": "stream",
     "text": [
      " This problem is unconstrained.\n"
     ]
    },
    {
     "name": "stdout",
     "output_type": "stream",
     "text": [
      "\n",
      "At iterate   10    f=  7.70940D+00    |proj g|=  4.42660D-03\n",
      "\n",
      "At iterate   15    f=  7.70772D+00    |proj g|=  2.71425D-02\n",
      "\n",
      "At iterate   20    f=  7.70650D+00    |proj g|=  1.35807D-04\n",
      "\n",
      "           * * *\n",
      "\n",
      "Tit   = total number of iterations\n",
      "Tnf   = total number of function evaluations\n",
      "Tnint = total number of segments explored during Cauchy searches\n",
      "Skip  = number of BFGS updates skipped\n",
      "Nact  = number of active bounds at final generalized Cauchy point\n",
      "Projg = norm of the final projected gradient\n",
      "F     = final function value\n",
      "\n",
      "           * * *\n",
      "\n",
      "   N    Tit     Tnf  Tnint  Skip  Nact     Projg        F\n",
      "    3     22     26      1     0     0   5.315D-07   7.707D+00\n",
      "  F =   7.7065019884919419     \n",
      "\n",
      "CONVERGENCE: NORM_OF_PROJECTED_GRADIENT_<=_PGTOL            \n",
      "ARIMA Parameters: (1, 1, 0) x: (1, 0, 0, 12). AIC: 1732.256445422195\n",
      "RUNNING THE L-BFGS-B CODE\n",
      "\n",
      "           * * *\n",
      "\n",
      "Machine precision = 2.220D-16\n",
      " N =            4     M =           10\n",
      "\n",
      "At X0         0 variables are exactly at the bounds\n",
      "\n",
      "At iterate    0    f=  7.72032D+00    |proj g|=  1.01163D-01\n"
     ]
    },
    {
     "name": "stderr",
     "output_type": "stream",
     "text": [
      " This problem is unconstrained.\n"
     ]
    },
    {
     "name": "stdout",
     "output_type": "stream",
     "text": [
      "\n",
      "At iterate    5    f=  7.70924D+00    |proj g|=  9.83264D-03\n",
      "\n",
      "           * * *\n",
      "\n",
      "Tit   = total number of iterations\n",
      "Tnf   = total number of function evaluations\n",
      "Tnint = total number of segments explored during Cauchy searches\n",
      "Skip  = number of BFGS updates skipped\n",
      "Nact  = number of active bounds at final generalized Cauchy point\n",
      "Projg = norm of the final projected gradient\n",
      "F     = final function value\n",
      "\n",
      "           * * *\n",
      "\n",
      "   N    Tit     Tnf  Tnint  Skip  Nact     Projg        F\n",
      "    4      9     12      1     0     0   6.834D-05   7.709D+00\n",
      "  F =   7.7091590994088506     \n",
      "\n",
      "CONVERGENCE: REL_REDUCTION_OF_F_<=_FACTR*EPSMCH             \n",
      "ARIMA Parameters: (1, 1, 0) x: (1, 0, 1, 12). AIC: 1734.8516382675825\n",
      "RUNNING THE L-BFGS-B CODE\n",
      "\n",
      "           * * *\n",
      "\n",
      "Machine precision = 2.220D-16\n",
      " N =            3     M =           10\n",
      "\n",
      "At X0         0 variables are exactly at the bounds\n",
      "\n",
      "At iterate    0    f=  6.90285D+00    |proj g|=  4.11995D-02\n"
     ]
    },
    {
     "name": "stderr",
     "output_type": "stream",
     "text": [
      " This problem is unconstrained.\n"
     ]
    },
    {
     "name": "stdout",
     "output_type": "stream",
     "text": [
      "\n",
      "           * * *\n",
      "\n",
      "Tit   = total number of iterations\n",
      "Tnf   = total number of function evaluations\n",
      "Tnint = total number of segments explored during Cauchy searches\n",
      "Skip  = number of BFGS updates skipped\n",
      "Nact  = number of active bounds at final generalized Cauchy point\n",
      "Projg = norm of the final projected gradient\n",
      "F     = final function value\n",
      "\n",
      "           * * *\n",
      "\n",
      "   N    Tit     Tnf  Tnint  Skip  Nact     Projg        F\n",
      "    3      4      6      1     0     0   8.531D-06   6.901D+00\n",
      "  F =   6.9013808045753544     \n",
      "\n",
      "CONVERGENCE: NORM_OF_PROJECTED_GRADIENT_<=_PGTOL            \n",
      "ARIMA Parameters: (1, 1, 0) x: (1, 1, 0, 12). AIC: 1551.9093002248794\n",
      "RUNNING THE L-BFGS-B CODE\n",
      "\n",
      "           * * *\n",
      "\n",
      "Machine precision = 2.220D-16\n",
      " N =            4     M =           10\n",
      "\n",
      "At X0         0 variables are exactly at the bounds\n",
      "\n",
      "At iterate    0    f=  6.91866D+00    |proj g|=  3.20248D-02\n"
     ]
    },
    {
     "name": "stderr",
     "output_type": "stream",
     "text": [
      " This problem is unconstrained.\n"
     ]
    },
    {
     "name": "stdout",
     "output_type": "stream",
     "text": [
      "\n",
      "At iterate    5    f=  6.86237D+00    |proj g|=  1.77119D-03\n",
      "\n",
      "           * * *\n",
      "\n",
      "Tit   = total number of iterations\n",
      "Tnf   = total number of function evaluations\n",
      "Tnint = total number of segments explored during Cauchy searches\n",
      "Skip  = number of BFGS updates skipped\n",
      "Nact  = number of active bounds at final generalized Cauchy point\n",
      "Projg = norm of the final projected gradient\n",
      "F     = final function value\n",
      "\n",
      "           * * *\n",
      "\n",
      "   N    Tit     Tnf  Tnint  Skip  Nact     Projg        F\n",
      "    4      8     14      1     0     0   6.603D-05   6.862D+00\n",
      "  F =   6.8623643480436538     \n",
      "\n",
      "CONVERGENCE: REL_REDUCTION_OF_F_<=_FACTR*EPSMCH             \n",
      "ARIMA Parameters: (1, 1, 0) x: (1, 1, 1, 12). AIC: 1545.1696139617784\n",
      "RUNNING THE L-BFGS-B CODE\n",
      "\n",
      "           * * *\n",
      "\n",
      "Machine precision = 2.220D-16\n",
      " N =            3     M =           10\n",
      "\n",
      "At X0         0 variables are exactly at the bounds\n",
      "\n",
      "At iterate    0    f=  8.51862D+00    |proj g|=  7.79195D-03\n"
     ]
    },
    {
     "name": "stderr",
     "output_type": "stream",
     "text": [
      " This problem is unconstrained.\n"
     ]
    },
    {
     "name": "stdout",
     "output_type": "stream",
     "text": [
      "\n",
      "At iterate    5    f=  8.51850D+00    |proj g|=  1.18151D-05\n",
      "\n",
      "           * * *\n",
      "\n",
      "Tit   = total number of iterations\n",
      "Tnf   = total number of function evaluations\n",
      "Tnint = total number of segments explored during Cauchy searches\n",
      "Skip  = number of BFGS updates skipped\n",
      "Nact  = number of active bounds at final generalized Cauchy point\n",
      "Projg = norm of the final projected gradient\n",
      "F     = final function value\n",
      "\n",
      "           * * *\n",
      "\n",
      "   N    Tit     Tnf  Tnint  Skip  Nact     Projg        F\n",
      "    3      5      8      1     0     0   1.182D-05   8.518D+00\n",
      "  F =   8.5184971295662777     \n",
      "\n",
      "CONVERGENCE: REL_REDUCTION_OF_F_<=_FACTR*EPSMCH             \n",
      "ARIMA Parameters: (1, 1, 1) x: (0, 0, 0, 12). AIC: 1914.1433570228462\n",
      "RUNNING THE L-BFGS-B CODE\n",
      "\n",
      "           * * *\n",
      "\n",
      "Machine precision = 2.220D-16\n",
      " N =            4     M =           10\n",
      "\n",
      "At X0         0 variables are exactly at the bounds\n",
      "\n",
      "At iterate    0    f=  7.64260D+00    |proj g|=  8.36069D-02\n"
     ]
    },
    {
     "name": "stderr",
     "output_type": "stream",
     "text": [
      " This problem is unconstrained.\n"
     ]
    },
    {
     "name": "stdout",
     "output_type": "stream",
     "text": [
      "\n",
      "At iterate    5    f=  7.63113D+00    |proj g|=  1.08783D-03\n",
      "\n",
      "At iterate   10    f=  7.63113D+00    |proj g|=  5.73651D-04\n",
      "\n",
      "At iterate   15    f=  7.63106D+00    |proj g|=  8.85193D-03\n",
      "\n",
      "At iterate   20    f=  7.62951D+00    |proj g|=  2.68352D-02\n",
      "\n",
      "At iterate   25    f=  7.62919D+00    |proj g|=  4.95390D-06\n",
      "\n",
      "           * * *\n",
      "\n",
      "Tit   = total number of iterations\n",
      "Tnf   = total number of function evaluations\n",
      "Tnint = total number of segments explored during Cauchy searches\n",
      "Skip  = number of BFGS updates skipped\n",
      "Nact  = number of active bounds at final generalized Cauchy point\n",
      "Projg = norm of the final projected gradient\n",
      "F     = final function value\n",
      "\n",
      "           * * *\n",
      "\n",
      "   N    Tit     Tnf  Tnint  Skip  Nact     Projg        F\n",
      "    4     25     30      1     0     0   4.954D-06   7.629D+00\n",
      "  F =   7.6291904565100257     \n",
      "\n",
      "CONVERGENCE: NORM_OF_PROJECTED_GRADIENT_<=_PGTOL            \n",
      "ARIMA Parameters: (1, 1, 1) x: (0, 0, 1, 12). AIC: 1716.9386622582458\n",
      "RUNNING THE L-BFGS-B CODE\n",
      "\n",
      "           * * *\n",
      "\n",
      "Machine precision = 2.220D-16\n",
      " N =            3     M =           10\n",
      "\n",
      "At X0         0 variables are exactly at the bounds\n",
      "\n",
      "At iterate    0    f=  7.78885D+00    |proj g|=  1.48537D-02\n"
     ]
    },
    {
     "name": "stderr",
     "output_type": "stream",
     "text": [
      " This problem is unconstrained.\n"
     ]
    },
    {
     "name": "stdout",
     "output_type": "stream",
     "text": [
      "\n",
      "At iterate    5    f=  7.78841D+00    |proj g|=  9.96465D-06\n",
      "\n",
      "           * * *\n",
      "\n",
      "Tit   = total number of iterations\n",
      "Tnf   = total number of function evaluations\n",
      "Tnint = total number of segments explored during Cauchy searches\n",
      "Skip  = number of BFGS updates skipped\n",
      "Nact  = number of active bounds at final generalized Cauchy point\n",
      "Projg = norm of the final projected gradient\n",
      "F     = final function value\n",
      "\n",
      "           * * *\n",
      "\n",
      "   N    Tit     Tnf  Tnint  Skip  Nact     Projg        F\n",
      "    3      5      7      1     0     0   9.965D-06   7.788D+00\n",
      "  F =   7.7884143467436582     \n",
      "\n",
      "CONVERGENCE: NORM_OF_PROJECTED_GRADIENT_<=_PGTOL            \n",
      "ARIMA Parameters: (1, 1, 1) x: (0, 1, 0, 12). AIC: 1750.6048136705795\n",
      "RUNNING THE L-BFGS-B CODE\n",
      "\n",
      "           * * *\n",
      "\n",
      "Machine precision = 2.220D-16\n",
      " N =            4     M =           10\n",
      "\n",
      "At X0         0 variables are exactly at the bounds\n",
      "\n",
      "At iterate    0    f=  6.84101D+00    |proj g|=  1.84518D-01\n"
     ]
    },
    {
     "name": "stderr",
     "output_type": "stream",
     "text": [
      " This problem is unconstrained.\n"
     ]
    },
    {
     "name": "stdout",
     "output_type": "stream",
     "text": [
      "\n",
      "At iterate    5    f=  6.78482D+00    |proj g|=  2.53922D-03\n",
      "\n",
      "           * * *\n",
      "\n",
      "Tit   = total number of iterations\n",
      "Tnf   = total number of function evaluations\n",
      "Tnint = total number of segments explored during Cauchy searches\n",
      "Skip  = number of BFGS updates skipped\n",
      "Nact  = number of active bounds at final generalized Cauchy point\n",
      "Projg = norm of the final projected gradient\n",
      "F     = final function value\n",
      "\n",
      "           * * *\n",
      "\n",
      "   N    Tit     Tnf  Tnint  Skip  Nact     Projg        F\n",
      "    4      8     11      1     0     0   6.208D-05   6.785D+00\n",
      "  F =   6.7847790894648741     \n",
      "\n",
      "CONVERGENCE: REL_REDUCTION_OF_F_<=_FACTR*EPSMCH             \n",
      "ARIMA Parameters: (1, 1, 1) x: (0, 1, 1, 12). AIC: 1527.7905160401317\n",
      "RUNNING THE L-BFGS-B CODE\n",
      "\n",
      "           * * *\n",
      "\n",
      "Machine precision = 2.220D-16\n",
      " N =            4     M =           10\n",
      "\n",
      "At X0         0 variables are exactly at the bounds\n",
      "\n",
      "At iterate    0    f=  7.71559D+00    |proj g|=  1.01188D-01\n"
     ]
    },
    {
     "name": "stderr",
     "output_type": "stream",
     "text": [
      " This problem is unconstrained.\n"
     ]
    },
    {
     "name": "stdout",
     "output_type": "stream",
     "text": [
      "\n",
      "At iterate    5    f=  7.70520D+00    |proj g|=  3.32244D-03\n",
      "\n",
      "           * * *\n",
      "\n",
      "Tit   = total number of iterations\n",
      "Tnf   = total number of function evaluations\n",
      "Tnint = total number of segments explored during Cauchy searches\n",
      "Skip  = number of BFGS updates skipped\n",
      "Nact  = number of active bounds at final generalized Cauchy point\n",
      "Projg = norm of the final projected gradient\n",
      "F     = final function value\n",
      "\n",
      "           * * *\n",
      "\n",
      "   N    Tit     Tnf  Tnint  Skip  Nact     Projg        F\n",
      "    4      7      9      1     0     0   4.935D-05   7.705D+00\n",
      "  F =   7.7051941753473718     \n",
      "\n",
      "CONVERGENCE: REL_REDUCTION_OF_F_<=_FACTR*EPSMCH             \n",
      "ARIMA Parameters: (1, 1, 1) x: (1, 0, 0, 12). AIC: 1733.9634952778113\n",
      "RUNNING THE L-BFGS-B CODE\n",
      "\n",
      "           * * *\n",
      "\n",
      "Machine precision = 2.220D-16\n",
      " N =            5     M =           10\n",
      "\n",
      "At X0         0 variables are exactly at the bounds\n",
      "\n",
      "At iterate    0    f=  7.64435D+00    |proj g|=  1.07416D-01\n"
     ]
    },
    {
     "name": "stderr",
     "output_type": "stream",
     "text": [
      " This problem is unconstrained.\n"
     ]
    },
    {
     "name": "stdout",
     "output_type": "stream",
     "text": [
      "\n",
      "At iterate    5    f=  7.63138D+00    |proj g|=  7.17945D-03\n",
      "\n",
      "At iterate   10    f=  7.63113D+00    |proj g|=  2.21343D-04\n",
      "\n",
      "           * * *\n",
      "\n",
      "Tit   = total number of iterations\n",
      "Tnf   = total number of function evaluations\n",
      "Tnint = total number of segments explored during Cauchy searches\n",
      "Skip  = number of BFGS updates skipped\n",
      "Nact  = number of active bounds at final generalized Cauchy point\n",
      "Projg = norm of the final projected gradient\n",
      "F     = final function value\n",
      "\n",
      "           * * *\n",
      "\n",
      "   N    Tit     Tnf  Tnint  Skip  Nact     Projg        F\n",
      "    5     12     14      1     0     0   5.469D-05   7.631D+00\n",
      "  F =   7.6311289765269308     \n",
      "\n",
      "CONVERGENCE: REL_REDUCTION_OF_F_<=_FACTR*EPSMCH             \n",
      "ARIMA Parameters: (1, 1, 1) x: (1, 0, 1, 12). AIC: 1719.3728907420325\n",
      "RUNNING THE L-BFGS-B CODE\n",
      "\n",
      "           * * *\n",
      "\n",
      "Machine precision = 2.220D-16\n",
      " N =            4     M =           10\n",
      "\n",
      "At X0         0 variables are exactly at the bounds\n",
      "\n",
      "At iterate    0    f=  6.89397D+00    |proj g|=  4.31183D-02\n"
     ]
    },
    {
     "name": "stderr",
     "output_type": "stream",
     "text": [
      " This problem is unconstrained.\n"
     ]
    },
    {
     "name": "stdout",
     "output_type": "stream",
     "text": [
      "\n",
      "At iterate    5    f=  6.89158D+00    |proj g|=  2.26653D-05\n",
      "\n",
      "           * * *\n",
      "\n",
      "Tit   = total number of iterations\n",
      "Tnf   = total number of function evaluations\n",
      "Tnint = total number of segments explored during Cauchy searches\n",
      "Skip  = number of BFGS updates skipped\n",
      "Nact  = number of active bounds at final generalized Cauchy point\n",
      "Projg = norm of the final projected gradient\n",
      "F     = final function value\n",
      "\n",
      "           * * *\n",
      "\n",
      "   N    Tit     Tnf  Tnint  Skip  Nact     Projg        F\n",
      "    4      6      9      1     0     0   2.267D-05   6.892D+00\n",
      "  F =   6.8915781078046239     \n",
      "\n",
      "CONVERGENCE: REL_REDUCTION_OF_F_<=_FACTR*EPSMCH             \n",
      "ARIMA Parameters: (1, 1, 1) x: (1, 1, 0, 12). AIC: 1551.7134961482357\n",
      "RUNNING THE L-BFGS-B CODE\n",
      "\n",
      "           * * *\n",
      "\n",
      "Machine precision = 2.220D-16\n",
      " N =            5     M =           10\n",
      "\n",
      "At X0         0 variables are exactly at the bounds\n",
      "\n",
      "At iterate    0    f=  6.83163D+00    |proj g|=  2.93540D-02\n"
     ]
    },
    {
     "name": "stderr",
     "output_type": "stream",
     "text": [
      " This problem is unconstrained.\n"
     ]
    },
    {
     "name": "stdout",
     "output_type": "stream",
     "text": [
      "\n",
      "At iterate    5    f=  6.79748D+00    |proj g|=  6.71961D-02\n",
      "\n",
      "At iterate   10    f=  6.78350D+00    |proj g|=  4.04120D-03\n",
      "\n",
      "           * * *\n",
      "\n",
      "Tit   = total number of iterations\n",
      "Tnf   = total number of function evaluations\n",
      "Tnint = total number of segments explored during Cauchy searches\n",
      "Skip  = number of BFGS updates skipped\n",
      "Nact  = number of active bounds at final generalized Cauchy point\n",
      "Projg = norm of the final projected gradient\n",
      "F     = final function value\n",
      "\n",
      "           * * *\n",
      "\n",
      "   N    Tit     Tnf  Tnint  Skip  Nact     Projg        F\n",
      "    5     14     20      1     0     0   6.592D-05   6.783D+00\n",
      "  F =   6.7834906570363289     \n",
      "\n",
      "CONVERGENCE: REL_REDUCTION_OF_F_<=_FACTR*EPSMCH             \n",
      "ARIMA Parameters: (1, 1, 1) x: (1, 1, 1, 12). AIC: 1529.5019071761376\n"
     ]
    }
   ],
   "source": [
    "import statsmodels.api as sm\n",
    "result_list,results = sarimax_function(df_monthly[\"Weighted_Price\"],pdq,seasonal_pdq)\n"
   ]
  },
  {
   "cell_type": "code",
   "execution_count": 30,
   "id": "c529c24e",
   "metadata": {},
   "outputs": [
    {
     "data": {
      "text/html": [
       "<div>\n",
       "<style scoped>\n",
       "    .dataframe tbody tr th:only-of-type {\n",
       "        vertical-align: middle;\n",
       "    }\n",
       "\n",
       "    .dataframe tbody tr th {\n",
       "        vertical-align: top;\n",
       "    }\n",
       "\n",
       "    .dataframe thead th {\n",
       "        text-align: right;\n",
       "    }\n",
       "</style>\n",
       "<table border=\"1\" class=\"dataframe\">\n",
       "  <thead>\n",
       "    <tr style=\"text-align: right;\">\n",
       "      <th></th>\n",
       "      <th>dpq</th>\n",
       "      <th>s_dpq</th>\n",
       "      <th>aic</th>\n",
       "    </tr>\n",
       "  </thead>\n",
       "  <tbody>\n",
       "    <tr>\n",
       "      <th>59</th>\n",
       "      <td>(1, 1, 1)</td>\n",
       "      <td>(0, 1, 1, 12)</td>\n",
       "      <td>1527.790516</td>\n",
       "    </tr>\n",
       "    <tr>\n",
       "      <th>63</th>\n",
       "      <td>(1, 1, 1)</td>\n",
       "      <td>(1, 1, 1, 12)</td>\n",
       "      <td>1529.501907</td>\n",
       "    </tr>\n",
       "    <tr>\n",
       "      <th>51</th>\n",
       "      <td>(1, 1, 0)</td>\n",
       "      <td>(0, 1, 1, 12)</td>\n",
       "      <td>1541.193791</td>\n",
       "    </tr>\n",
       "    <tr>\n",
       "      <th>27</th>\n",
       "      <td>(0, 1, 1)</td>\n",
       "      <td>(0, 1, 1, 12)</td>\n",
       "      <td>1541.966883</td>\n",
       "    </tr>\n",
       "    <tr>\n",
       "      <th>31</th>\n",
       "      <td>(0, 1, 1)</td>\n",
       "      <td>(1, 1, 1, 12)</td>\n",
       "      <td>1543.838988</td>\n",
       "    </tr>\n",
       "  </tbody>\n",
       "</table>\n",
       "</div>"
      ],
      "text/plain": [
       "          dpq          s_dpq          aic\n",
       "59  (1, 1, 1)  (0, 1, 1, 12)  1527.790516\n",
       "63  (1, 1, 1)  (1, 1, 1, 12)  1529.501907\n",
       "51  (1, 1, 0)  (0, 1, 1, 12)  1541.193791\n",
       "27  (0, 1, 1)  (0, 1, 1, 12)  1541.966883\n",
       "31  (0, 1, 1)  (1, 1, 1, 12)  1543.838988"
      ]
     },
     "execution_count": 30,
     "metadata": {},
     "output_type": "execute_result"
    }
   ],
   "source": [
    "#Dataframe of all results and parameters.\n",
    "\n",
    "results_dataframe = pd.DataFrame(result_list, columns=[\"dpq\",\"s_dpq\",\"aic\"]).sort_values(by=\"aic\")\n",
    "results_dataframe.head()"
   ]
  },
  {
   "cell_type": "code",
   "execution_count": 31,
   "id": "2ac410de",
   "metadata": {},
   "outputs": [
    {
     "name": "stdout",
     "output_type": "stream",
     "text": [
      "RUNNING THE L-BFGS-B CODE\n",
      "\n",
      "           * * *\n",
      "\n",
      "Machine precision = 2.220D-16\n",
      " N =            4     M =           10\n",
      "\n",
      "At X0         0 variables are exactly at the bounds\n",
      "\n",
      "At iterate    0    f=  6.93347D+00    |proj g|=  3.82077D-02\n"
     ]
    },
    {
     "name": "stderr",
     "output_type": "stream",
     "text": [
      " This problem is unconstrained.\n"
     ]
    },
    {
     "name": "stdout",
     "output_type": "stream",
     "text": [
      "\n",
      "At iterate    5    f=  6.88440D+00    |proj g|=  5.62607D-03\n"
     ]
    },
    {
     "name": "stdout",
     "output_type": "stream",
     "text": [
      "\n",
      "At iterate   10    f=  6.88437D+00    |proj g|=  2.83564D-04\n",
      "\n",
      "At iterate   15    f=  6.88422D+00    |proj g|=  7.10959D-03\n",
      "\n",
      "At iterate   20    f=  6.87244D+00    |proj g|=  7.42608D-02\n",
      "\n",
      "At iterate   25    f=  6.85729D+00    |proj g|=  1.78584D-02\n",
      "\n",
      "At iterate   30    f=  6.85642D+00    |proj g|=  3.60352D-06\n",
      "\n",
      "           * * *\n",
      "\n",
      "Tit   = total number of iterations\n",
      "Tnf   = total number of function evaluations\n",
      "Tnint = total number of segments explored during Cauchy searches\n",
      "Skip  = number of BFGS updates skipped\n",
      "Nact  = number of active bounds at final generalized Cauchy point\n",
      "Projg = norm of the final projected gradient\n",
      "F     = final function value\n",
      "\n",
      "           * * *\n",
      "\n",
      "   N    Tit     Tnf  Tnint  Skip  Nact     Projg        F\n",
      "    4     30     43      1     0     0   3.604D-06   6.856D+00\n",
      "  F =   6.8564240553776816     \n",
      "\n",
      "CONVERGENCE: NORM_OF_PROJECTED_GRADIENT_<=_PGTOL            \n",
      "==============================================================================\n",
      "                 coef    std err          z      P>|z|      [0.025      0.975]\n",
      "------------------------------------------------------------------------------\n",
      "ma.L1          0.6595      0.066     10.022      0.000       0.530       0.788\n",
      "ar.S.L12      -0.0639      0.147     -0.436      0.663      -0.351       0.223\n",
      "ma.S.L12      -1.2001      0.054    -22.334      0.000      -1.305      -1.095\n",
      "sigma2      2.921e+06   1.94e-08    1.5e+14      0.000    2.92e+06    2.92e+06\n",
      "==============================================================================\n"
     ]
    }
   ],
   "source": [
    "model = sm.tsa.statespace.SARIMAX(df_monthly[\"Weighted_Price\"], order=(0, 1, 1), seasonal_order=(1, 1, 1, 12),\n",
    "            enforce_invertibility=False,enforce_stationarity=False).fit()\n",
    "print(model.summary().tables[1])"
   ]
  },
  {
   "cell_type": "code",
   "execution_count": 32,
   "id": "a7f0efb7",
   "metadata": {},
   "outputs": [],
   "source": [
    "df_month_prediction = df_monthly[[\"Weighted_Price\"]].copy()\n",
    "\n",
    "df_month_prediction.loc[:, \"Forcasting\"] = model.predict(start=pd.to_datetime(\"2011-12-31\"), end=pd.to_datetime(\"2021-03-31\"))"
   ]
  },
  {
   "cell_type": "code",
   "execution_count": 33,
   "id": "630a2332",
   "metadata": {},
   "outputs": [
    {
     "data": {
      "image/png": "[encoded data removed]",
      "text/plain": [
       "<Figure size 1000x500 with 1 Axes>"
      ]
     },
     "metadata": {},
     "output_type": "display_data"
    }
   ],
   "source": [
    "import datetime\n",
    "from pandas.tseries.offsets import DateOffset\n",
    "from pandas.tseries.offsets import MonthEnd\n",
    "\n",
    "ax, fig = plt.subplots(figsize = (10,5))\n",
    "\n",
    "plt.plot(df_month_prediction[\"Forcasting\"], ls=\"--\", label=\"Prediction\")\n",
    "plt.plot(df_month_prediction[\"Weighted_Price\"], label=\"Actual Data\")\n",
    "\n",
    "plt.xticks(alpha=0.75, weight=\"bold\")\n",
    "plt.yticks(alpha=0.75, weight=\"bold\")\n",
    "\n",
    "plt.xlabel(\"Date\",alpha=0.75, weight=\"bold\")\n",
    "plt.ylabel(\"Price\",alpha=0.75, weight=\"bold\")\n",
    "\n",
    "plt.legend()\n",
    "\n",
    "plt.text(x=datetime.date(2011, 6, 30), y=65000, s=\"Forcasting test of SARIMAX\",\n",
    "fontsize=18, weight=\"bold\", alpha=0.75)\n",
    "plt.text(x=datetime.date(2011, 6, 30), y=60000, s=\"Prediction testing of the best SARIMAX model.\",\n",
    "         fontsize=15, alpha=0.75)\n",
    "\n",
    "plt.show()"
   ]
  },
  {
   "cell_type": "code",
   "execution_count": 34,
   "id": "6f98eb07",
   "metadata": {},
   "outputs": [],
   "source": [
    "#Datetimeindex dates I want to predict\n",
    "\n",
    "future_dates = [df_month_prediction.index[-1] + DateOffset(months = x)for x in range(1,25)]\n",
    "future_dates = pd.to_datetime(future_dates)  +  MonthEnd(0)\n",
    "future = pd.DataFrame(index=future_dates)\n",
    "df_month_prediction = pd.concat([df_month_prediction,future])"
   ]
  },
  {
   "cell_type": "code",
   "execution_count": 35,
   "id": "0709f15f",
   "metadata": {},
   "outputs": [],
   "source": [
    "#Prediction\n",
    "\n",
    "df_month_prediction[\"Future_forcast\"] = model.predict(start=pd.to_datetime(\"2021-03-31\"),end=pd.to_datetime(\"2023-03-31\"))\n",
    "\n",
    "pred = model.get_prediction(start=pd.to_datetime(\"2021-03-31\"),end=pd.to_datetime(\"2023-03-31\"))\n",
    "pred_ci = pred.conf_int()"
   ]
  },
  {
   "cell_type": "code",
   "execution_count": 36,
   "id": "d0905d72",
   "metadata": {},
   "outputs": [
    {
     "data": {
      "image/png": "[encoded data removed]",
      "text/plain": [
       "<Figure size 1000x500 with 1 Axes>"
      ]
     },
     "metadata": {},
     "output_type": "display_data"
    }
   ],
   "source": [
    "ax, fig = plt.subplots(figsize=(10,5))\n",
    "\n",
    "plt.plot(df_month_prediction[\"Weighted_Price\"], label=\"Actual\")\n",
    "plt.plot(df_month_prediction[\"Future_forcast\"],ls=\"--\", label=\"Prediction\")\n",
    "\n",
    "plt.fill_between(pred_ci.index,\n",
    "                pred_ci.iloc[:, 0],\n",
    "                pred_ci.iloc[:, 1], color='k', alpha=.2)\n",
    "plt.legend()\n",
    "\n",
    "\n",
    "plt.xticks(alpha=0.75, weight=\"bold\")\n",
    "plt.yticks(alpha=0.75, weight=\"bold\")\n",
    "\n",
    "plt.xlabel(\"Date\",alpha=0.75, weight=\"bold\")\n",
    "plt.ylabel(\"Price\",alpha=0.75, weight=\"bold\")\n",
    "\n",
    "plt.legend()\n",
    "\n",
    "plt.text(x=datetime.date(2011, 6, 30), y=120000, s=\"SARIMAX Forcasting\",\n",
    "fontsize=18, weight=\"bold\", alpha=0.75)\n",
    "plt.text(x=datetime.date(2011, 6, 30), y=115000, s=\"Prediction of the weighted price for the next 25 months.\",\n",
    "         fontsize=15, alpha=0.75)\n",
    "\n",
    "plt.show()"
   ]
  },
  {
   "cell_type": "code",
   "execution_count": 37,
   "id": "36cab947",
   "metadata": {},
   "outputs": [
    {
     "data": {
      "image/png": "[encoded data removed]",
      "text/plain": [
       "<Figure size 1000x500 with 1 Axes>"
      ]
     },
     "metadata": {},
     "output_type": "display_data"
    }
   ],
   "source": [
    "ax, fig = plt.subplots(figsize=(10, 5))\n",
    "plt.plot(df_month_prediction[\"Weighted_Price\"], label=\"Actual\")\n",
    "plt.plot(df_month_prediction[\"Future_forcast\"], ls=\"--\", label=\"Prediction\")\n",
    "plt.fill_between(pred_ci.index,\n",
    "                pred_ci.iloc[:, 0],\n",
    "                pred_ci.iloc[:, 1], color='k', alpha=.2)\n",
    "plt.legend()\n",
    "\n",
    "# Set explicit ticks for the years 2022, 2023, 2024, and 2025\n",
    "plt.xticks([pd.to_datetime(\"2022-01-31\"), pd.to_datetime(\"2023-01-31\"), pd.to_datetime(\"2024-01-31\"), pd.to_datetime(\"2025-01-31\")],\n",
    "           [\"2022\", \"2023\", \"2024\", \"2025\"], alpha=0.75, weight=\"bold\")\n",
    "\n",
    "plt.yticks(alpha=0.75, weight=\"bold\")\n",
    "plt.xlabel(\"Date\", alpha=0.75, weight=\"bold\")\n",
    "plt.ylabel(\"Price\", alpha=0.75, weight=\"bold\")\n",
    "\n",
    "plt.text(x=datetime.date(2011, 6, 30), y=120000, s=\"SARIMAX Forecasting\",\n",
    "         fontsize=18, weight=\"bold\", alpha=0.75)\n",
    "plt.text(x=datetime.date(2011, 6, 30), y=115000, s=\"Prediction of the weighted price for the next 25 months.\",\n",
    "         fontsize=15, alpha=0.75)\n",
    "plt.show()"
   ]
  },
  {
   "cell_type": "code",
   "execution_count": 55,
   "id": "033b0fd3",
   "metadata": {},
   "outputs": [],
   "source": [
    "#Datetimeindex dates I want to predict\n",
    "\n",
    "future_dates = [df_month_prediction.index[-1] + DateOffset(months = x)for x in range(1,150)]\n",
    "future_dates = pd.to_datetime(future_dates)  +  MonthEnd(0)\n",
    "future = pd.DataFrame(index=future_dates)\n",
    "df_month_prediction = pd.concat([df_month_prediction,future])"
   ]
  },
  {
   "cell_type": "code",
   "execution_count": 49,
   "id": "b532a645",
   "metadata": {},
   "outputs": [],
   "source": [
    "#Prediction\n",
    "\n",
    "df_month_prediction[\"Future_forcast\"] = model.predict(start=pd.to_datetime(\"2021-03-31\"),end=pd.to_datetime(\"2027-03-31\"))\n",
    "\n",
    "pred = model.get_prediction(start=pd.to_datetime(\"2021-03-31\"),end=pd.to_datetime(\"2027-03-31\"))\n",
    "pred_ci = pred.conf_int()"
   ]
  },
  {
   "cell_type": "code",
   "execution_count": 51,
   "id": "627004fd",
   "metadata": {},
   "outputs": [
    {
     "data": {
      "image/png": "[encoded data removed]",
      "text/plain": [
       "<Figure size 1000x500 with 1 Axes>"
      ]
     },
     "metadata": {},
     "output_type": "display_data"
    }
   ],
   "source": [
    "ax, fig = plt.subplots(figsize=(10, 5))\n",
    "plt.plot(df_month_prediction[\"Weighted_Price\"], label=\"Actual\")\n",
    "plt.plot(df_month_prediction[\"Future_forcast\"], ls=\"--\", label=\"Prediction\")\n",
    "plt.fill_between(pred_ci.index,\n",
    "                pred_ci.iloc[:, 0],\n",
    "                pred_ci.iloc[:, 1], color='k', alpha=.2)\n",
    "plt.legend()\n",
    "\n",
    "# Set explicit ticks for the years 2022, 2023, 2024, and 2025\n",
    "plt.xticks([pd.to_datetime(\"2022-01-31\"), pd.to_datetime(\"2023-01-31\"), pd.to_datetime(\"2024-01-31\"), pd.to_datetime(\"2025-01-31\"), pd.to_datetime(\"2026-01-31\"), pd.to_datetime(\"2027-01-31\")],\n",
    "           [\"2022\", \"2023\", \"2024\", \"2025\", '2026', '2027'], alpha=0.75, weight=\"bold\")\n",
    "\n",
    "plt.yticks(alpha=0.75, weight=\"bold\")\n",
    "plt.xlabel(\"Date\", alpha=0.75, weight=\"bold\")\n",
    "plt.ylabel(\"Price\", alpha=0.75, weight=\"bold\")\n",
    "\n",
    "plt.text(x=datetime.date(2011, 6, 30), y=120000, s=\"SARIMAX Forecasting\",\n",
    "         fontsize=18, weight=\"bold\", alpha=0.75)\n",
    "plt.text(x=datetime.date(2011, 6, 30), y=115000, s=\"Prediction of the weighted price for the next 25 months.\",\n",
    "         fontsize=15, alpha=0.75)\n",
    "plt.show()\n",
    "#----------------\n"
   ]
  },
  {
   "cell_type": "code",
   "execution_count": 56,
   "id": "371a0b9e",
   "metadata": {},
   "outputs": [],
   "source": [
    "#Prediction\n",
    "\n",
    "df_month_prediction[\"Future_forcast\"] = model.predict(start=pd.to_datetime(\"2021-03-31\"),end=pd.to_datetime(\"2030-03-31\"))\n",
    "\n",
    "pred = model.get_prediction(start=pd.to_datetime(\"2021-03-31\"),end=pd.to_datetime(\"2030-03-31\"))\n",
    "pred_ci = pred.conf_int()"
   ]
  },
  {
   "cell_type": "code",
   "execution_count": 57,
   "id": "d9557ec0",
   "metadata": {},
   "outputs": [
    {
     "data": {
      "image/png": "[encoded data removed]",
      "text/plain": [
       "<Figure size 1000x500 with 1 Axes>"
      ]
     },
     "metadata": {},
     "output_type": "display_data"
    }
   ],
   "source": [
    "ax, fig = plt.subplots(figsize=(10, 5))\n",
    "plt.plot(df_month_prediction[\"Weighted_Price\"], label=\"Actual\")\n",
    "plt.plot(df_month_prediction[\"Future_forcast\"], ls=\"--\", label=\"Prediction\")\n",
    "plt.fill_between(pred_ci.index,\n",
    "                pred_ci.iloc[:, 0],\n",
    "                pred_ci.iloc[:, 1], color='k', alpha=.2)\n",
    "plt.legend()\n",
    "\n",
    "# Set explicit ticks for the years 2022, 2023, 2024, and 2025\n",
    "plt.xticks([pd.to_datetime(\"2022-01-31\"), pd.to_datetime(\"2023-01-31\"), pd.to_datetime(\"2024-01-31\"), pd.to_datetime(\"2025-01-31\"), pd.to_datetime(\"2026-01-31\"), pd.to_datetime(\"2027-01-31\"), pd.to_datetime(\"2028-01-31\"), pd.to_datetime(\"2029-01-31\"), pd.to_datetime(\"2030-01-31\")],\n",
    "           [\"2022\", \"2023\", \"2024\", \"2025\", '2026', '2027','2028','2029','2030'], alpha=0.75, weight=\"bold\")\n",
    "\n",
    "plt.yticks(alpha=0.75, weight=\"bold\")\n",
    "plt.xlabel(\"Date\", alpha=0.75, weight=\"bold\")\n",
    "plt.ylabel(\"Price\", alpha=0.75, weight=\"bold\")\n",
    "\n",
    "plt.text(x=datetime.date(2011, 6, 30), y=120000, s=\"SARIMAX Forecasting\",\n",
    "         fontsize=18, weight=\"bold\", alpha=0.75)\n",
    "plt.text(x=datetime.date(2011, 6, 30), y=115000, s=\"Prediction of the weighted price for the next 25 months.\",\n",
    "         fontsize=15, alpha=0.75)\n",
    "plt.show()\n",
    "#----------------\n"
   ]
  },
  {
   "cell_type": "code",
   "execution_count": null,
   "id": "0e793d07",
   "metadata": {},
   "outputs": [],
   "source": []
  }
 ],
 "metadata": {
  "kernelspec": {
   "display_name": "Python 3 (ipykernel)",
   "language": "python",
   "name": "python3"
  },
  "language_info": {
   "codemirror_mode": {
    "name": "ipython",
    "version": 3
   },
   "file_extension": ".py",
   "mimetype": "text/x-python",
   "name": "python",
   "nbconvert_exporter": "python",
   "pygments_lexer": "ipython3",
   "version": "3.11.6"
  }
 },
 "nbformat": 4,
 "nbformat_minor": 5
}
